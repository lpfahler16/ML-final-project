{
 "cells": [
  {
   "attachments": {},
   "cell_type": "markdown",
   "metadata": {},
   "source": [
    "# Imports"
   ]
  },
  {
   "cell_type": "code",
   "execution_count": 79,
   "metadata": {},
   "outputs": [],
   "source": [
    "import os\n",
    "scripts_path = os.path.abspath('../scripts')\n",
    "import importlib.util\n",
    "spec = importlib.util.spec_from_file_location(\"helpers\", os.path.join(scripts_path, \"helpers.py\"))\n",
    "helpers = importlib.util.module_from_spec(spec)\n",
    "spec.loader.exec_module(helpers)\n",
    "\n",
    "import torch\n",
    "import pandas as pd\n",
    "from tqdm import trange"
   ]
  },
  {
   "attachments": {},
   "cell_type": "markdown",
   "metadata": {},
   "source": [
    "# Neural Network"
   ]
  },
  {
   "cell_type": "markdown",
   "metadata": {},
   "source": [
    "## Convert 4th down"
   ]
  },
  {
   "attachments": {},
   "cell_type": "markdown",
   "metadata": {},
   "source": [
    "#### Data setup"
   ]
  },
  {
   "cell_type": "code",
   "execution_count": 80,
   "metadata": {},
   "outputs": [],
   "source": [
    "X_train, X_test, y_train, y_test = helpers.convert_data_split(nn=True)\n",
    "\n",
    "batch_size = 64\n",
    "train_dataset = torch.utils.data.TensorDataset(torch.tensor(X_train.values), torch.tensor(y_train))\n",
    "train_loader = torch.utils.data.DataLoader(train_dataset, batch_size=batch_size, shuffle=False, num_workers=True)\n",
    "\n",
    "X_test = torch.tensor(X_test.values)\n",
    "y_test = torch.tensor(y_test)\n",
    "\n",
    "n_train, p = X_train.shape\n",
    "n_test, p = X_test.shape"
   ]
  },
  {
   "attachments": {},
   "cell_type": "markdown",
   "metadata": {},
   "source": [
    "#### Class"
   ]
  },
  {
   "cell_type": "code",
   "execution_count": 81,
   "metadata": {},
   "outputs": [],
   "source": [
    "input_size = 4   # input size\n",
    "hidden_size = 10  # width of hidden layer\n",
    "output_size = 4   # number of output neurons\n",
    "\n",
    "class NNClassifier(torch.nn.Module):\n",
    "    \n",
    "    def __init__(self):\n",
    "        \n",
    "        super().__init__()\n",
    "        self.fc1 = torch.nn.Linear(input_size, hidden_size)\n",
    "        self.act = torch.nn.ReLU()\n",
    "        self.fc2 = torch.nn.Linear(hidden_size, output_size)\n",
    "        self.log_softmax = torch.nn.LogSoftmax()\n",
    "    \n",
    "    def forward(self, x):\n",
    "        x = self.fc1(x)\n",
    "        x = self.act(x)\n",
    "        x = self.fc2(x)\n",
    "        x = self.act(x)\n",
    "        y_output = self.log_softmax(x)\n",
    "        return y_output"
   ]
  },
  {
   "attachments": {},
   "cell_type": "markdown",
   "metadata": {},
   "source": [
    "#### Testing / Training"
   ]
  },
  {
   "cell_type": "code",
   "execution_count": 82,
   "metadata": {},
   "outputs": [],
   "source": [
    "def train_one_epoch(train_loader, model, optimizer, log_interval, epoch):\n",
    "    model.train()\n",
    "    loss_function = torch.nn.CrossEntropyLoss()\n",
    "    train_loss = 0\n",
    "    num_correct = 0\n",
    "    \n",
    "    for i, (feature, label) in enumerate(train_loader):\n",
    "        feature = feature.float()\n",
    "        label = label.long()\n",
    "\n",
    "        optimizer.zero_grad()\n",
    "        ans = model(feature)\n",
    "        loss = loss_function(ans, label)\n",
    "        loss.backward()\n",
    "        optimizer.step()\n",
    "\n",
    "        pred = ans.argmax(dim=1, keepdim=True) # Get index of largest log-probability and use that as prediction\n",
    "        num_correct += (pred == label.view_as(pred)).sum().item()\n",
    "        train_loss += loss.item()\n",
    "    \n",
    "    return train_loss, num_correct\n",
    "\n",
    "def test_one_epoch(X_test, Y_test, model):\n",
    "    model.eval()\n",
    "    loss_function = torch.nn.CrossEntropyLoss()\n",
    "    test_loss = 0\n",
    "    num_correct = 0\n",
    "    \n",
    "    with torch.no_grad():\n",
    "        feature = X_test.float()\n",
    "        label = Y_test.long()\n",
    "        output = model(feature)\n",
    "        \n",
    "        pred = output.argmax(dim=1, keepdim=True) # Get index of largest log-probability and use that as prediction\n",
    "        num_correct += (pred == label.view_as(pred)).sum().item()\n",
    "        test_loss += torch.nn.functional.nll_loss(output, label.long(), reduction='sum').item()\n",
    "\n",
    "    return test_loss, num_correct"
   ]
  },
  {
   "attachments": {},
   "cell_type": "markdown",
   "metadata": {},
   "source": [
    "#### Running"
   ]
  },
  {
   "cell_type": "code",
   "execution_count": 83,
   "metadata": {},
   "outputs": [
    {
     "name": "stderr",
     "output_type": "stream",
     "text": [
      "Epochs:   0%|          | 0/2000 [00:00<?, ?it/s]/var/folders/8r/q18lgzp95917cyrn8bqmq1c80000gn/T/ipykernel_68606/201985438.py:20: UserWarning: Implicit dimension choice for log_softmax has been deprecated. Change the call to include dim=X as an argument.\n",
      "  y_output = self.log_softmax(x)\n",
      "Epochs:   0%|          | 1/2000 [00:03<1:42:49,  3.09s/it]"
     ]
    },
    {
     "name": "stdout",
     "output_type": "stream",
     "text": [
      "cross entropy loss 8.270278773340237 1.5947190472691322\n",
      "accuracy 0.1923241394056019 0.13296280461735785\n"
     ]
    },
    {
     "name": "stderr",
     "output_type": "stream",
     "text": [
      "Epochs:   1%|          | 21/2000 [00:42<1:00:57,  1.85s/it]"
     ]
    },
    {
     "name": "stdout",
     "output_type": "stream",
     "text": [
      "cross entropy loss 1.3862397630198473 1.3882737765204147\n",
      "accuracy 0.12080393414581997 0.11500641299700727\n"
     ]
    },
    {
     "name": "stderr",
     "output_type": "stream",
     "text": [
      "Epochs:   2%|▏         | 41/2000 [01:18<56:49,  1.74s/it]  "
     ]
    },
    {
     "name": "stdout",
     "output_type": "stream",
     "text": [
      "cross entropy loss 1.37887391508842 1.3789438261543394\n",
      "accuracy 0.1230489630104768 0.115861479264643\n"
     ]
    },
    {
     "name": "stderr",
     "output_type": "stream",
     "text": [
      "Epochs:   3%|▎         | 61/2000 [01:53<56:32,  1.75s/it]"
     ]
    },
    {
     "name": "stdout",
     "output_type": "stream",
     "text": [
      "cross entropy loss 1.3730635245641072 1.3755389046801518\n",
      "accuracy 0.12700449005772932 0.11928174433518597\n"
     ]
    },
    {
     "name": "stderr",
     "output_type": "stream",
     "text": [
      "Epochs:   4%|▍         | 81/2000 [02:28<55:51,  1.75s/it]"
     ]
    },
    {
     "name": "stdout",
     "output_type": "stream",
     "text": [
      "cross entropy loss 1.3681126930275742 1.3688819758042967\n",
      "accuracy 0.12999786187727175 0.12612227447627192\n"
     ]
    },
    {
     "name": "stderr",
     "output_type": "stream",
     "text": [
      "Epochs:   5%|▌         | 101/2000 [03:03<55:42,  1.76s/it]"
     ]
    },
    {
     "name": "stdout",
     "output_type": "stream",
     "text": [
      "cross entropy loss 1.3660909424022751 1.3646258500561137\n",
      "accuracy 0.13170836005986744 0.12954253954681488\n"
     ]
    },
    {
     "name": "stderr",
     "output_type": "stream",
     "text": [
      "Epochs:   6%|▌         | 121/2000 [03:39<57:45,  1.84s/it]"
     ]
    },
    {
     "name": "stdout",
     "output_type": "stream",
     "text": [
      "cross entropy loss 1.3638425368030056 1.362191019633123\n",
      "accuracy 0.13491554415223433 0.13253527148353997\n"
     ]
    },
    {
     "name": "stderr",
     "output_type": "stream",
     "text": [
      "Epochs:   7%|▋         | 141/2000 [04:14<54:11,  1.75s/it]"
     ]
    },
    {
     "name": "stdout",
     "output_type": "stream",
     "text": [
      "cross entropy loss 1.3553366093408494 1.3573431738323\n",
      "accuracy 0.14817190506735087 0.13894826849080805\n"
     ]
    },
    {
     "name": "stderr",
     "output_type": "stream",
     "text": [
      "Epochs:   8%|▊         | 161/2000 [04:49<53:33,  1.75s/it]"
     ]
    },
    {
     "name": "stdout",
     "output_type": "stream",
     "text": [
      "cross entropy loss 1.307277376959924 1.307241530334812\n",
      "accuracy 0.23455206328843275 0.21675929884566053\n"
     ]
    },
    {
     "name": "stderr",
     "output_type": "stream",
     "text": [
      "Epochs:   9%|▉         | 181/2000 [05:28<57:59,  1.91s/it]  "
     ]
    },
    {
     "name": "stdout",
     "output_type": "stream",
     "text": [
      "cross entropy loss 1.285899854030739 1.2534104535191322\n",
      "accuracy 0.26822749625828524 0.25480974775545107\n"
     ]
    },
    {
     "name": "stderr",
     "output_type": "stream",
     "text": [
      "Epochs:  10%|█         | 201/2000 [06:06<56:47,  1.89s/it]"
     ]
    },
    {
     "name": "stdout",
     "output_type": "stream",
     "text": [
      "cross entropy loss 1.3173281505805294 1.2751644374265176\n",
      "accuracy 0.2030147530468249 0.23899102180418982\n"
     ]
    },
    {
     "name": "stderr",
     "output_type": "stream",
     "text": [
      "Epochs:  11%|█         | 221/2000 [06:45<56:26,  1.90s/it]"
     ]
    },
    {
     "name": "stdout",
     "output_type": "stream",
     "text": [
      "cross entropy loss 1.2307444028302925 1.3489223576448268\n",
      "accuracy 0.339213170836006 0.14749893116716545\n"
     ]
    },
    {
     "name": "stderr",
     "output_type": "stream",
     "text": [
      "Epochs:  12%|█▏        | 241/2000 [07:23<55:56,  1.91s/it]"
     ]
    },
    {
     "name": "stdout",
     "output_type": "stream",
     "text": [
      "cross entropy loss 1.2508429305083086 1.2429127197787515\n",
      "accuracy 0.3061791746846269 0.2620778110303549\n"
     ]
    },
    {
     "name": "stderr",
     "output_type": "stream",
     "text": [
      "Epochs:  13%|█▎        | 261/2000 [08:02<57:07,  1.97s/it]"
     ]
    },
    {
     "name": "stdout",
     "output_type": "stream",
     "text": [
      "cross entropy loss 1.1857198359203986 1.2591962418835507\n",
      "accuracy 0.3830446867650203 0.24326635314236852\n"
     ]
    },
    {
     "name": "stderr",
     "output_type": "stream",
     "text": [
      "Epochs:  14%|█▍        | 281/2000 [08:40<54:23,  1.90s/it]"
     ]
    },
    {
     "name": "stdout",
     "output_type": "stream",
     "text": [
      "cross entropy loss 1.1348123724768762 1.7264662632936083\n",
      "accuracy 0.428907419285867 0.6117999144933732\n"
     ]
    },
    {
     "name": "stderr",
     "output_type": "stream",
     "text": [
      "Epochs:  15%|█▌        | 301/2000 [09:18<53:10,  1.88s/it]"
     ]
    },
    {
     "name": "stdout",
     "output_type": "stream",
     "text": [
      "cross entropy loss 1.0580921367723115 1.043015615814718\n",
      "accuracy 0.49807568954457987 0.46472851646002566\n"
     ]
    },
    {
     "name": "stderr",
     "output_type": "stream",
     "text": [
      "Epochs:  16%|█▌        | 321/2000 [09:57<54:28,  1.95s/it]"
     ]
    },
    {
     "name": "stdout",
     "output_type": "stream",
     "text": [
      "cross entropy loss 0.9605038376892505 1.2567032727995404\n",
      "accuracy 0.5667094291212316 0.26378794356562635\n"
     ]
    },
    {
     "name": "stderr",
     "output_type": "stream",
     "text": [
      "Epochs:  17%|█▋        | 341/2000 [10:35<51:13,  1.85s/it]"
     ]
    },
    {
     "name": "stdout",
     "output_type": "stream",
     "text": [
      "cross entropy loss 0.8710468516868799 1.1193783985544037\n",
      "accuracy 0.603592046183451 0.44164172723386064\n"
     ]
    },
    {
     "name": "stderr",
     "output_type": "stream",
     "text": [
      "Epochs:  18%|█▊        | 361/2000 [11:13<52:18,  1.92s/it]"
     ]
    },
    {
     "name": "stdout",
     "output_type": "stream",
     "text": [
      "cross entropy loss 0.8506855275355228 0.9965927822052694\n",
      "accuracy 0.6082959161855891 0.566053869174861\n"
     ]
    },
    {
     "name": "stderr",
     "output_type": "stream",
     "text": [
      "Epochs:  19%|█▉        | 381/2000 [11:52<51:33,  1.91s/it]"
     ]
    },
    {
     "name": "stdout",
     "output_type": "stream",
     "text": [
      "cross entropy loss 0.8424914767142055 1.101488808986212\n",
      "accuracy 0.6090442591404747 0.4467721248396751\n"
     ]
    },
    {
     "name": "stderr",
     "output_type": "stream",
     "text": [
      "Epochs:  20%|██        | 401/2000 [12:30<50:56,  1.91s/it]"
     ]
    },
    {
     "name": "stdout",
     "output_type": "stream",
     "text": [
      "cross entropy loss 0.8353539928287065 1.0836494253353464\n",
      "accuracy 0.611075475732307 0.4433518597691321\n"
     ]
    },
    {
     "name": "stderr",
     "output_type": "stream",
     "text": [
      "Epochs:  21%|██        | 421/2000 [13:09<52:16,  1.99s/it]"
     ]
    },
    {
     "name": "stdout",
     "output_type": "stream",
     "text": [
      "cross entropy loss 0.8304359422249048 1.0376170705964087\n",
      "accuracy 0.6116100064143681 0.47669944420692606\n"
     ]
    },
    {
     "name": "stderr",
     "output_type": "stream",
     "text": [
      "Epochs:  22%|██▏       | 441/2000 [13:48<49:53,  1.92s/it]"
     ]
    },
    {
     "name": "stdout",
     "output_type": "stream",
     "text": [
      "cross entropy loss 0.8289966899521497 0.9486396597103463\n",
      "accuracy 0.6113961941415437 0.5651988029072254\n"
     ]
    },
    {
     "name": "stderr",
     "output_type": "stream",
     "text": [
      "Epochs:  23%|██▎       | 461/2000 [14:27<49:50,  1.94s/it]"
     ]
    },
    {
     "name": "stdout",
     "output_type": "stream",
     "text": [
      "cross entropy loss 0.8260470470603631 0.9592087881439718\n",
      "accuracy 0.6126790677784905 0.5489525438221462\n"
     ]
    },
    {
     "name": "stderr",
     "output_type": "stream",
     "text": [
      "Epochs:  24%|██▍       | 481/2000 [15:06<49:20,  1.95s/it]"
     ]
    },
    {
     "name": "stdout",
     "output_type": "stream",
     "text": [
      "cross entropy loss 0.8238103677626369 0.9351331197894399\n",
      "accuracy 0.6120376309600171 0.5669089354424968\n"
     ]
    },
    {
     "name": "stderr",
     "output_type": "stream",
     "text": [
      "Epochs:  25%|██▌       | 501/2000 [15:41<40:05,  1.60s/it]"
     ]
    },
    {
     "name": "stdout",
     "output_type": "stream",
     "text": [
      "cross entropy loss 0.8219797461211276 0.9209412325646644\n",
      "accuracy 0.6126790677784905 0.5788798631893972\n"
     ]
    },
    {
     "name": "stderr",
     "output_type": "stream",
     "text": [
      "Epochs:  26%|██▌       | 521/2000 [38:13<15:26:54, 37.60s/it]  "
     ]
    },
    {
     "name": "stdout",
     "output_type": "stream",
     "text": [
      "cross entropy loss 0.8203094707054346 0.8981264529446344\n",
      "accuracy 0.6125721616420783 0.5925609234715691\n"
     ]
    },
    {
     "name": "stderr",
     "output_type": "stream",
     "text": [
      "Epochs:  27%|██▋       | 541/2000 [1:02:05<5:59:57, 14.80s/it]   "
     ]
    },
    {
     "name": "stdout",
     "output_type": "stream",
     "text": [
      "cross entropy loss 0.8197975300607228 0.8681518502498397\n",
      "accuracy 0.6143895659610862 0.6079521162890124\n"
     ]
    },
    {
     "name": "stderr",
     "output_type": "stream",
     "text": [
      "Epochs:  28%|██▊       | 561/2000 [1:02:49<57:32,  2.40s/it]  "
     ]
    },
    {
     "name": "stdout",
     "output_type": "stream",
     "text": [
      "cross entropy loss 0.8174101929275357 0.8789267081284737\n",
      "accuracy 0.6142826598246739 0.5998289867464729\n"
     ]
    },
    {
     "name": "stderr",
     "output_type": "stream",
     "text": [
      "Epochs:  29%|██▉       | 581/2000 [1:03:39<55:43,  2.36s/it]  "
     ]
    },
    {
     "name": "stdout",
     "output_type": "stream",
     "text": [
      "cross entropy loss 0.8173107253450925 0.8643437157639483\n",
      "accuracy 0.6161000641436819 0.6117999144933732\n"
     ]
    },
    {
     "name": "stderr",
     "output_type": "stream",
     "text": [
      "Epochs:  30%|███       | 601/2000 [1:04:25<45:29,  1.95s/it]  "
     ]
    },
    {
     "name": "stdout",
     "output_type": "stream",
     "text": [
      "cross entropy loss 0.8140771141668566 0.8680947031817817\n",
      "accuracy 0.6162069702800941 0.6083796494228303\n"
     ]
    },
    {
     "name": "stderr",
     "output_type": "stream",
     "text": [
      "Epochs:  31%|███       | 621/2000 [1:05:06<45:49,  1.99s/it]"
     ]
    },
    {
     "name": "stdout",
     "output_type": "stream",
     "text": [
      "cross entropy loss 0.8133436064330899 0.862720739031103\n",
      "accuracy 0.6170622193713919 0.6113723813595554\n"
     ]
    },
    {
     "name": "stderr",
     "output_type": "stream",
     "text": [
      "Epochs:  32%|███▏      | 641/2000 [1:05:47<46:22,  2.05s/it]"
     ]
    },
    {
     "name": "stdout",
     "output_type": "stream",
     "text": [
      "cross entropy loss 0.812047469372652 0.8608328504101646\n",
      "accuracy 0.616634594825743 0.6122274476271911\n"
     ]
    },
    {
     "name": "stderr",
     "output_type": "stream",
     "text": [
      "Epochs:  33%|███▎      | 661/2000 [1:06:26<44:22,  1.99s/it]"
     ]
    },
    {
     "name": "stdout",
     "output_type": "stream",
     "text": [
      "cross entropy loss 0.8112427726083872 0.8553017448696024\n",
      "accuracy 0.6173829377806286 0.6156477126977341\n"
     ]
    },
    {
     "name": "stderr",
     "output_type": "stream",
     "text": [
      "Epochs:  34%|███▍      | 681/2000 [1:07:05<41:59,  1.91s/it]"
     ]
    },
    {
     "name": "stdout",
     "output_type": "stream",
     "text": [
      "cross entropy loss 0.8111443860190255 0.8592502158541311\n",
      "accuracy 0.6171691255078041 0.6143651132962804\n"
     ]
    },
    {
     "name": "stderr",
     "output_type": "stream",
     "text": [
      "Epochs:  35%|███▌      | 701/2000 [1:38:24<5:08:28, 14.25s/it]   "
     ]
    },
    {
     "name": "stdout",
     "output_type": "stream",
     "text": [
      "cross entropy loss 0.809496647646638 0.8565326770588393\n",
      "accuracy 0.6171691255078041 0.6143651132962804\n"
     ]
    },
    {
     "name": "stderr",
     "output_type": "stream",
     "text": [
      "Epochs:  36%|███▌      | 721/2000 [1:39:07<49:10,  2.31s/it]  "
     ]
    },
    {
     "name": "stdout",
     "output_type": "stream",
     "text": [
      "cross entropy loss 0.8086118957623333 0.8545900942576956\n",
      "accuracy 0.6179174684626898 0.6143651132962804\n"
     ]
    },
    {
     "name": "stderr",
     "output_type": "stream",
     "text": [
      "Epochs:  37%|███▋      | 741/2000 [1:39:56<49:09,  2.34s/it]"
     ]
    },
    {
     "name": "stdout",
     "output_type": "stream",
     "text": [
      "cross entropy loss 0.8083308464815827 0.8524496625661341\n",
      "accuracy 0.6177036561898653 0.6165027789653699\n"
     ]
    },
    {
     "name": "stderr",
     "output_type": "stream",
     "text": [
      "Epochs:  38%|███▊      | 761/2000 [1:40:42<49:01,  2.37s/it]"
     ]
    },
    {
     "name": "stdout",
     "output_type": "stream",
     "text": [
      "cross entropy loss 0.8072075276147752 0.8321382898507642\n",
      "accuracy 0.618024374599102 0.6182129115006413\n"
     ]
    },
    {
     "name": "stderr",
     "output_type": "stream",
     "text": [
      "Epochs:  39%|███▉      | 781/2000 [1:41:30<47:10,  2.32s/it]"
     ]
    },
    {
     "name": "stdout",
     "output_type": "stream",
     "text": [
      "cross entropy loss 0.8059748224660653 0.8318034967534202\n",
      "accuracy 0.618024374599102 0.6182129115006413\n"
     ]
    },
    {
     "name": "stderr",
     "output_type": "stream",
     "text": [
      "Epochs:  40%|████      | 801/2000 [1:42:17<48:16,  2.42s/it]"
     ]
    },
    {
     "name": "stdout",
     "output_type": "stream",
     "text": [
      "cross entropy loss 0.7240043967759529 0.7304100372588446\n",
      "accuracy 0.7265341030575155 0.7293715262932877\n"
     ]
    },
    {
     "name": "stderr",
     "output_type": "stream",
     "text": [
      "Epochs:  41%|████      | 821/2000 [1:43:05<45:42,  2.33s/it]"
     ]
    },
    {
     "name": "stdout",
     "output_type": "stream",
     "text": [
      "cross entropy loss 0.7192417093280221 0.7342218249819634\n",
      "accuracy 0.7309172546504169 0.7486105173150919\n"
     ]
    },
    {
     "name": "stderr",
     "output_type": "stream",
     "text": [
      "Epochs:  42%|████▏     | 841/2000 [1:43:52<46:36,  2.41s/it]"
     ]
    },
    {
     "name": "stdout",
     "output_type": "stream",
     "text": [
      "cross entropy loss 0.7054767450507806 0.7293962117391246\n",
      "accuracy 0.7385075903356852 0.7554510474561779\n"
     ]
    },
    {
     "name": "stderr",
     "output_type": "stream",
     "text": [
      "Epochs:  43%|████▎     | 861/2000 [1:44:39<43:41,  2.30s/it]"
     ]
    },
    {
     "name": "stdout",
     "output_type": "stream",
     "text": [
      "cross entropy loss 0.6980141697286748 0.7309933026767582\n",
      "accuracy 0.741180243745991 0.7592988456605387\n"
     ]
    },
    {
     "name": "stderr",
     "output_type": "stream",
     "text": [
      "Epochs:  44%|████▍     | 881/2000 [1:45:26<44:57,  2.41s/it]"
     ]
    },
    {
     "name": "stdout",
     "output_type": "stream",
     "text": [
      "cross entropy loss 0.6965543463522074 0.7591980685021644\n",
      "accuracy 0.7415009621552278 0.7332193244976486\n"
     ]
    },
    {
     "name": "stderr",
     "output_type": "stream",
     "text": [
      "Epochs:  45%|████▌     | 901/2000 [1:46:14<42:22,  2.31s/it]"
     ]
    },
    {
     "name": "stdout",
     "output_type": "stream",
     "text": [
      "cross entropy loss 0.6924890174346716 0.7338851530769025\n",
      "accuracy 0.7438528971562968 0.7614365113296281\n"
     ]
    },
    {
     "name": "stderr",
     "output_type": "stream",
     "text": [
      "Epochs:  46%|████▌     | 921/2000 [1:47:01<42:57,  2.39s/it]"
     ]
    },
    {
     "name": "stdout",
     "output_type": "stream",
     "text": [
      "cross entropy loss 0.6910739109224203 0.7231340934293502\n",
      "accuracy 0.7442805217019457 0.7605814450619923\n"
     ]
    },
    {
     "name": "stderr",
     "output_type": "stream",
     "text": [
      "Epochs:  47%|████▋     | 941/2000 [1:47:48<41:07,  2.33s/it]"
     ]
    },
    {
     "name": "stdout",
     "output_type": "stream",
     "text": [
      "cross entropy loss 0.6902448948548765 0.7233167552907225\n",
      "accuracy 0.7454564892024802 0.7614365113296281\n"
     ]
    },
    {
     "name": "stderr",
     "output_type": "stream",
     "text": [
      "Epochs:  48%|████▊     | 961/2000 [2:02:43<40:22:08, 139.87s/it]"
     ]
    },
    {
     "name": "stdout",
     "output_type": "stream",
     "text": [
      "cross entropy loss 0.6868288638640423 0.718942629980093\n",
      "accuracy 0.7465255505666025 0.7622915775972637\n"
     ]
    },
    {
     "name": "stderr",
     "output_type": "stream",
     "text": [
      "Epochs:  49%|████▉     | 981/2000 [3:00:59<5:21:58, 18.96s/it]    "
     ]
    },
    {
     "name": "stdout",
     "output_type": "stream",
     "text": [
      "cross entropy loss 0.693125842177138 0.7177864847758123\n",
      "accuracy 0.7440667094291212 0.7640017101325353\n"
     ]
    },
    {
     "name": "stderr",
     "output_type": "stream",
     "text": [
      "Epochs:  50%|█████     | 1001/2000 [3:01:39<34:42,  2.08s/it] "
     ]
    },
    {
     "name": "stdout",
     "output_type": "stream",
     "text": [
      "cross entropy loss 0.6914580496801 0.7162730529706872\n",
      "accuracy 0.7443874278383579 0.764856776400171\n"
     ]
    },
    {
     "name": "stderr",
     "output_type": "stream",
     "text": [
      "Epochs:  51%|█████     | 1021/2000 [5:03:15<1:57:39,  7.21s/it]    "
     ]
    },
    {
     "name": "stdout",
     "output_type": "stream",
     "text": [
      "cross entropy loss 0.6859995917398103 0.7133063112073803\n",
      "accuracy 0.7448150523840068 0.7635741769987174\n"
     ]
    },
    {
     "name": "stderr",
     "output_type": "stream",
     "text": [
      "Epochs:  52%|█████▏    | 1041/2000 [5:04:00<39:06,  2.45s/it]  "
     ]
    },
    {
     "name": "stdout",
     "output_type": "stream",
     "text": [
      "cross entropy loss 0.68254898721669 0.7106625156149797\n",
      "accuracy 0.7472738935214881 0.7622915775972637\n"
     ]
    },
    {
     "name": "stderr",
     "output_type": "stream",
     "text": [
      "Epochs:  53%|█████▎    | 1061/2000 [5:04:47<34:42,  2.22s/it]"
     ]
    },
    {
     "name": "stdout",
     "output_type": "stream",
     "text": [
      "cross entropy loss 0.6832791110690759 0.7159040238216118\n",
      "accuracy 0.7480222364763738 0.7605814450619923\n"
     ]
    },
    {
     "name": "stderr",
     "output_type": "stream",
     "text": [
      "Epochs:  54%|█████▍    | 1081/2000 [5:05:34<35:22,  2.31s/it]"
     ]
    },
    {
     "name": "stdout",
     "output_type": "stream",
     "text": [
      "cross entropy loss 0.6778883528547223 0.7128594681053602\n",
      "accuracy 0.7497327346589694 0.7627191107310817\n"
     ]
    },
    {
     "name": "stderr",
     "output_type": "stream",
     "text": [
      "Epochs:  55%|█████▌    | 1101/2000 [5:06:20<36:08,  2.41s/it]"
     ]
    },
    {
     "name": "stdout",
     "output_type": "stream",
     "text": [
      "cross entropy loss 0.6776151523298147 0.7108009733059\n",
      "accuracy 0.7491982039769083 0.7631466438648995\n"
     ]
    },
    {
     "name": "stderr",
     "output_type": "stream",
     "text": [
      "Epochs:  56%|█████▌    | 1121/2000 [5:07:08<34:54,  2.38s/it]"
     ]
    },
    {
     "name": "stdout",
     "output_type": "stream",
     "text": [
      "cross entropy loss 0.6815725317617662 0.7141923256132429\n",
      "accuracy 0.7501603592046183 0.7618640444634459\n"
     ]
    },
    {
     "name": "stderr",
     "output_type": "stream",
     "text": [
      "Epochs:  57%|█████▋    | 1141/2000 [5:07:54<32:34,  2.28s/it]"
     ]
    },
    {
     "name": "stdout",
     "output_type": "stream",
     "text": [
      "cross entropy loss 0.6792828266312476 0.7091028442643758\n",
      "accuracy 0.7501603592046183 0.7631466438648995\n"
     ]
    },
    {
     "name": "stderr",
     "output_type": "stream",
     "text": [
      "Epochs:  58%|█████▊    | 1161/2000 [5:08:38<31:25,  2.25s/it]"
     ]
    },
    {
     "name": "stdout",
     "output_type": "stream",
     "text": [
      "cross entropy loss 0.6761949810446525 0.7100563913698429\n",
      "accuracy 0.7516570451143896 0.7627191107310817\n"
     ]
    },
    {
     "name": "stderr",
     "output_type": "stream",
     "text": [
      "Epochs:  59%|█████▉    | 1181/2000 [5:09:21<29:13,  2.14s/it]"
     ]
    },
    {
     "name": "stdout",
     "output_type": "stream",
     "text": [
      "cross entropy loss 0.6764418458452031 0.6852658366790028\n",
      "accuracy 0.7526192003420996 0.7635741769987174\n"
     ]
    },
    {
     "name": "stderr",
     "output_type": "stream",
     "text": [
      "Epochs:  60%|██████    | 1201/2000 [5:10:06<28:27,  2.14s/it]"
     ]
    },
    {
     "name": "stdout",
     "output_type": "stream",
     "text": [
      "cross entropy loss 0.6959856132260797 0.7098788962296921\n",
      "accuracy 0.7483429548856104 0.748182984181274\n"
     ]
    },
    {
     "name": "stderr",
     "output_type": "stream",
     "text": [
      "Epochs:  61%|██████    | 1221/2000 [5:10:52<29:48,  2.30s/it]"
     ]
    },
    {
     "name": "stdout",
     "output_type": "stream",
     "text": [
      "cross entropy loss 0.6716232729606888 0.6830030737294249\n",
      "accuracy 0.7530468248877485 0.7640017101325353\n"
     ]
    },
    {
     "name": "stderr",
     "output_type": "stream",
     "text": [
      "Epochs:  62%|██████▏   | 1241/2000 [5:11:36<28:47,  2.28s/it]"
     ]
    },
    {
     "name": "stdout",
     "output_type": "stream",
     "text": [
      "cross entropy loss 0.6705053606811835 0.6837800129094965\n",
      "accuracy 0.7543296985246953 0.7669944420692604\n"
     ]
    },
    {
     "name": "stderr",
     "output_type": "stream",
     "text": [
      "Epochs:  63%|██████▎   | 1261/2000 [5:12:20<27:02,  2.20s/it]"
     ]
    },
    {
     "name": "stdout",
     "output_type": "stream",
     "text": [
      "cross entropy loss 0.6696951470407498 0.708685592383898\n",
      "accuracy 0.7543296985246953 0.7524583155194527\n"
     ]
    },
    {
     "name": "stderr",
     "output_type": "stream",
     "text": [
      "Epochs:  64%|██████▍   | 1281/2000 [5:13:05<26:38,  2.22s/it]"
     ]
    },
    {
     "name": "stdout",
     "output_type": "stream",
     "text": [
      "cross entropy loss 0.6698865918886094 0.7066415539660378\n",
      "accuracy 0.7544366046611075 0.7528858486532707\n"
     ]
    },
    {
     "name": "stderr",
     "output_type": "stream",
     "text": [
      "Epochs:  65%|██████▌   | 1301/2000 [5:13:50<26:23,  2.27s/it]"
     ]
    },
    {
     "name": "stdout",
     "output_type": "stream",
     "text": [
      "cross entropy loss 0.6900349074885959 0.6736095048464888\n",
      "accuracy 0.7510156082959162 0.7669944420692604\n"
     ]
    },
    {
     "name": "stderr",
     "output_type": "stream",
     "text": [
      "Epochs:  66%|██████▌   | 1321/2000 [5:14:34<24:19,  2.15s/it]"
     ]
    },
    {
     "name": "stdout",
     "output_type": "stream",
     "text": [
      "cross entropy loss 0.6675006355963596 0.6871140615814718\n",
      "accuracy 0.7541158862518709 0.7652843095339888\n"
     ]
    },
    {
     "name": "stderr",
     "output_type": "stream",
     "text": [
      "Epochs:  67%|██████▋   | 1341/2000 [5:15:19<24:13,  2.21s/it]"
     ]
    },
    {
     "name": "stdout",
     "output_type": "stream",
     "text": [
      "cross entropy loss 0.6654897725501028 0.7174050868092667\n",
      "accuracy 0.7541158862518709 0.7469003847798205\n"
     ]
    },
    {
     "name": "stderr",
     "output_type": "stream",
     "text": [
      "Epochs:  68%|██████▊   | 1361/2000 [5:16:03<23:28,  2.20s/it]"
     ]
    },
    {
     "name": "stdout",
     "output_type": "stream",
     "text": [
      "cross entropy loss 0.6677876433142188 1.2045672980573963\n",
      "accuracy 0.7528330126149241 0.4946558358272766\n"
     ]
    },
    {
     "name": "stderr",
     "output_type": "stream",
     "text": [
      "Epochs:  69%|██████▉   | 1381/2000 [5:16:47<22:52,  2.22s/it]"
     ]
    },
    {
     "name": "stdout",
     "output_type": "stream",
     "text": [
      "cross entropy loss 0.6636903555620284 0.7215428998603837\n",
      "accuracy 0.7553987598888177 0.7490380504489098\n"
     ]
    },
    {
     "name": "stderr",
     "output_type": "stream",
     "text": [
      "Epochs:  70%|███████   | 1401/2000 [5:17:31<22:27,  2.25s/it]"
     ]
    },
    {
     "name": "stdout",
     "output_type": "stream",
     "text": [
      "cross entropy loss 0.6678815275227943 1.0867609396710667\n",
      "accuracy 0.7539020739790464 0.5446772124839675\n"
     ]
    },
    {
     "name": "stderr",
     "output_type": "stream",
     "text": [
      "Epochs:  71%|███████   | 1421/2000 [5:18:13<20:29,  2.12s/it]"
     ]
    },
    {
     "name": "stdout",
     "output_type": "stream",
     "text": [
      "cross entropy loss 0.6677116508386574 0.9164890845446773\n",
      "accuracy 0.7531537310241608 0.5878580589995724\n"
     ]
    },
    {
     "name": "stderr",
     "output_type": "stream",
     "text": [
      "Epochs:  72%|███████▏  | 1441/2000 [5:18:56<19:55,  2.14s/it]"
     ]
    },
    {
     "name": "stdout",
     "output_type": "stream",
     "text": [
      "cross entropy loss 0.6631969294580472 0.871389401269907\n",
      "accuracy 0.7527261064785119 0.6143651132962804\n"
     ]
    },
    {
     "name": "stderr",
     "output_type": "stream",
     "text": [
      "Epochs:  73%|███████▎  | 1461/2000 [5:19:38<18:12,  2.03s/it]"
     ]
    },
    {
     "name": "stdout",
     "output_type": "stream",
     "text": [
      "cross entropy loss 0.6633669024422055 0.8172894983833904\n",
      "accuracy 0.7516570451143896 0.6545532278751603\n"
     ]
    },
    {
     "name": "stderr",
     "output_type": "stream",
     "text": [
      "Epochs:  74%|███████▍  | 1481/2000 [5:20:20<18:33,  2.15s/it]"
     ]
    },
    {
     "name": "stdout",
     "output_type": "stream",
     "text": [
      "cross entropy loss 0.6578316510129137 0.7925866735751123\n",
      "accuracy 0.7549711353431687 0.6737922188969645\n"
     ]
    },
    {
     "name": "stderr",
     "output_type": "stream",
     "text": [
      "Epochs:  75%|███████▌  | 1501/2000 [5:21:00<16:55,  2.04s/it]"
     ]
    },
    {
     "name": "stdout",
     "output_type": "stream",
     "text": [
      "cross entropy loss 0.6526650541088208 0.7515562790588927\n",
      "accuracy 0.7568954457985888 0.7126977340743907\n"
     ]
    },
    {
     "name": "stderr",
     "output_type": "stream",
     "text": [
      "Epochs:  76%|███████▌  | 1521/2000 [5:21:41<15:47,  1.98s/it]"
     ]
    },
    {
     "name": "stdout",
     "output_type": "stream",
     "text": [
      "cross entropy loss 0.6501514785954742 0.7347849454060229\n",
      "accuracy 0.7570023519350011 0.728516460025652\n"
     ]
    },
    {
     "name": "stderr",
     "output_type": "stream",
     "text": [
      "Epochs:  77%|███████▋  | 1541/2000 [5:22:22<15:51,  2.07s/it]"
     ]
    },
    {
     "name": "stdout",
     "output_type": "stream",
     "text": [
      "cross entropy loss 0.6505548179555102 0.7441290912081819\n",
      "accuracy 0.7575368826170622 0.7195382642154767\n"
     ]
    },
    {
     "name": "stderr",
     "output_type": "stream",
     "text": [
      "Epochs:  78%|███████▊  | 1561/2000 [5:23:01<14:35,  1.99s/it]"
     ]
    },
    {
     "name": "stdout",
     "output_type": "stream",
     "text": [
      "cross entropy loss 0.6480516140558281 0.8441625548611853\n",
      "accuracy 0.7584990378447722 0.68875587858059\n"
     ]
    },
    {
     "name": "stderr",
     "output_type": "stream",
     "text": [
      "Epochs:  79%|███████▉  | 1581/2000 [5:23:42<14:15,  2.04s/it]"
     ]
    },
    {
     "name": "stdout",
     "output_type": "stream",
     "text": [
      "cross entropy loss 0.6465290138105146 0.744332419954441\n",
      "accuracy 0.7592473807996579 0.715262932877298\n"
     ]
    },
    {
     "name": "stderr",
     "output_type": "stream",
     "text": [
      "Epochs:  80%|████████  | 1601/2000 [5:24:28<16:10,  2.43s/it]"
     ]
    },
    {
     "name": "stdout",
     "output_type": "stream",
     "text": [
      "cross entropy loss 0.6461656328772201 0.7460815377498397\n",
      "accuracy 0.7587128501175967 0.7139803334758443\n"
     ]
    },
    {
     "name": "stderr",
     "output_type": "stream",
     "text": [
      "Epochs:  81%|████████  | 1621/2000 [5:25:14<15:10,  2.40s/it]"
     ]
    },
    {
     "name": "stdout",
     "output_type": "stream",
     "text": [
      "cross entropy loss 0.6459682506768882 0.8367704902769613\n",
      "accuracy 0.7584990378447722 0.6930312099187687\n"
     ]
    },
    {
     "name": "stderr",
     "output_type": "stream",
     "text": [
      "Epochs:  82%|████████▏ | 1641/2000 [5:26:03<14:38,  2.45s/it]"
     ]
    },
    {
     "name": "stdout",
     "output_type": "stream",
     "text": [
      "cross entropy loss 0.6447616489160628 0.8321615661908134\n",
      "accuracy 0.7594611930724824 0.6947413424540402\n"
     ]
    },
    {
     "name": "stderr",
     "output_type": "stream",
     "text": [
      "Epochs:  83%|████████▎ | 1661/2000 [5:26:50<13:19,  2.36s/it]"
     ]
    },
    {
     "name": "stdout",
     "output_type": "stream",
     "text": [
      "cross entropy loss 0.6436780790487925 0.8263577725857738\n",
      "accuracy 0.7593542869360701 0.6968790081231295\n"
     ]
    },
    {
     "name": "stderr",
     "output_type": "stream",
     "text": [
      "Epochs:  84%|████████▍ | 1681/2000 [5:27:36<12:04,  2.27s/it]"
     ]
    },
    {
     "name": "stdout",
     "output_type": "stream",
     "text": [
      "cross entropy loss 0.6428062404905047 0.8238848441174113\n",
      "accuracy 0.7604233483001924 0.6968790081231295\n"
     ]
    },
    {
     "name": "stderr",
     "output_type": "stream",
     "text": [
      "Epochs:  85%|████████▌ | 1701/2000 [5:28:23<11:50,  2.38s/it]"
     ]
    },
    {
     "name": "stdout",
     "output_type": "stream",
     "text": [
      "cross entropy loss 0.6422838617344292 0.8207330919830857\n",
      "accuracy 0.7608509728458414 0.6973065412569475\n"
     ]
    },
    {
     "name": "stderr",
     "output_type": "stream",
     "text": [
      "Epochs:  86%|████████▌ | 1721/2000 [5:29:10<10:52,  2.34s/it]"
     ]
    },
    {
     "name": "stdout",
     "output_type": "stream",
     "text": [
      "cross entropy loss 0.6412041282572714 0.8171559986572787\n",
      "accuracy 0.7615993158007269 0.6998717400598546\n"
     ]
    },
    {
     "name": "stderr",
     "output_type": "stream",
     "text": [
      "Epochs:  87%|████████▋ | 1741/2000 [5:29:57<09:52,  2.29s/it]"
     ]
    },
    {
     "name": "stdout",
     "output_type": "stream",
     "text": [
      "cross entropy loss 0.640417352825606 0.8178077361786554\n",
      "accuracy 0.7608509728458414 0.6990166737922189\n"
     ]
    },
    {
     "name": "stderr",
     "output_type": "stream",
     "text": [
      "Epochs:  88%|████████▊ | 1761/2000 [5:30:43<09:25,  2.37s/it]"
     ]
    },
    {
     "name": "stdout",
     "output_type": "stream",
     "text": [
      "cross entropy loss 0.6401641020158522 0.8205126974000642\n",
      "accuracy 0.761171691255078 0.695168875587858\n"
     ]
    },
    {
     "name": "stderr",
     "output_type": "stream",
     "text": [
      "Epochs:  89%|████████▉ | 1781/2000 [5:31:29<08:21,  2.29s/it]"
     ]
    },
    {
     "name": "stdout",
     "output_type": "stream",
     "text": [
      "cross entropy loss 0.6395075315115403 0.8225888321164226\n",
      "accuracy 0.7620269403463759 0.6947413424540402\n"
     ]
    },
    {
     "name": "stderr",
     "output_type": "stream",
     "text": [
      "Epochs:  90%|█████████ | 1801/2000 [5:32:16<07:35,  2.29s/it]"
     ]
    },
    {
     "name": "stdout",
     "output_type": "stream",
     "text": [
      "cross entropy loss 0.6392188613512078 0.821426006706926\n",
      "accuracy 0.7623476587556126 0.6960239418554938\n"
     ]
    },
    {
     "name": "stderr",
     "output_type": "stream",
     "text": [
      "Epochs:  91%|█████████ | 1821/2000 [5:33:03<06:57,  2.33s/it]"
     ]
    },
    {
     "name": "stdout",
     "output_type": "stream",
     "text": [
      "cross entropy loss 0.6382678714739222 0.8199206642128046\n",
      "accuracy 0.762989095574086 0.6964514749893117\n"
     ]
    },
    {
     "name": "stderr",
     "output_type": "stream",
     "text": [
      "Epochs:  92%|█████████▏| 1841/2000 [5:33:49<06:05,  2.30s/it]"
     ]
    },
    {
     "name": "stdout",
     "output_type": "stream",
     "text": [
      "cross entropy loss 0.6370452612030263 0.8172157551804992\n",
      "accuracy 0.7637374385289716 0.6968790081231295\n"
     ]
    },
    {
     "name": "stderr",
     "output_type": "stream",
     "text": [
      "Epochs:  93%|█████████▎| 1861/2000 [5:34:35<05:29,  2.37s/it]"
     ]
    },
    {
     "name": "stdout",
     "output_type": "stream",
     "text": [
      "cross entropy loss 0.6363176654796211 0.8183057246018598\n",
      "accuracy 0.7642719692110327 0.6964514749893117\n"
     ]
    },
    {
     "name": "stderr",
     "output_type": "stream",
     "text": [
      "Epochs:  94%|█████████▍| 1881/2000 [5:35:21<04:35,  2.31s/it]"
     ]
    },
    {
     "name": "stdout",
     "output_type": "stream",
     "text": [
      "cross entropy loss 0.635795899394418 0.8162677923090798\n",
      "accuracy 0.7645926876202694 0.6968790081231295\n"
     ]
    },
    {
     "name": "stderr",
     "output_type": "stream",
     "text": [
      "Epochs:  95%|█████████▌| 1901/2000 [5:36:08<03:52,  2.35s/it]"
     ]
    },
    {
     "name": "stdout",
     "output_type": "stream",
     "text": [
      "cross entropy loss 0.6354213063003255 0.8162914339728516\n",
      "accuracy 0.764378875347445 0.6968790081231295\n"
     ]
    },
    {
     "name": "stderr",
     "output_type": "stream",
     "text": [
      "Epochs:  96%|█████████▌| 1921/2000 [5:37:16<06:31,  4.96s/it]"
     ]
    },
    {
     "name": "stdout",
     "output_type": "stream",
     "text": [
      "cross entropy loss 0.6343302998413034 0.8158370756399637\n",
      "accuracy 0.7645926876202694 0.6968790081231295\n"
     ]
    },
    {
     "name": "stderr",
     "output_type": "stream",
     "text": [
      "Epochs:  97%|█████████▋| 1941/2000 [5:38:12<03:37,  3.68s/it]"
     ]
    },
    {
     "name": "stdout",
     "output_type": "stream",
     "text": [
      "cross entropy loss 0.6337339531402199 0.8167684423765498\n",
      "accuracy 0.7652341244387428 0.6968790081231295\n"
     ]
    },
    {
     "name": "stderr",
     "output_type": "stream",
     "text": [
      "Epochs:  98%|█████████▊| 1961/2000 [5:39:24<01:45,  2.72s/it]"
     ]
    },
    {
     "name": "stdout",
     "output_type": "stream",
     "text": [
      "cross entropy loss 0.6326171950418122 0.8166233566695169\n",
      "accuracy 0.7655548428479795 0.6968790081231295\n"
     ]
    },
    {
     "name": "stderr",
     "output_type": "stream",
     "text": [
      "Epochs:  99%|█████████▉| 1981/2000 [5:40:47<00:53,  2.82s/it]"
     ]
    },
    {
     "name": "stdout",
     "output_type": "stream",
     "text": [
      "cross entropy loss 0.6326675936072862 0.8148377065018437\n",
      "accuracy 0.7652341244387428 0.6968790081231295\n"
     ]
    },
    {
     "name": "stderr",
     "output_type": "stream",
     "text": [
      "Epochs: 100%|██████████| 2000/2000 [5:42:15<00:00, 10.27s/it]\n"
     ]
    }
   ],
   "source": [
    "# Hyperparameters\n",
    "lr = 0.0001\n",
    "wd = 0.02\n",
    "max_epochs = 2000\n",
    "\n",
    "# Print results\n",
    "log_interval = 20\n",
    "\n",
    "model = NNClassifier()\n",
    "\n",
    "# Instantiate optimizer (model was created in previous cell)\n",
    "optimizer = torch.optim.SGD(model.parameters(), lr=lr, weight_decay=wd)\n",
    "\n",
    "train_losses = []\n",
    "train_correct_list = []\n",
    "test_losses = []\n",
    "test_correct_list = []\n",
    "\n",
    "for epoch in trange(max_epochs, leave=True, desc='Epochs'):\n",
    "    train_loss, train_correct = train_one_epoch(train_loader, model, optimizer, log_interval, epoch)\n",
    "    \n",
    "    if epoch % log_interval == 0:\n",
    "        test_loss, test_correct = test_one_epoch(X_test, y_test, model)\n",
    "\n",
    "        # Record results\n",
    "        train_losses.append(train_loss)\n",
    "        train_correct_list.append(train_correct)\n",
    "        test_losses.append(test_loss)\n",
    "        test_correct_list.append(test_correct)\n",
    "        \n",
    "        print('cross entropy loss', train_loss / len(train_loader), test_loss / float(n_test))\n",
    "        print('accuracy', train_correct / float(n_train), test_correct / float(n_test))"
   ]
  },
  {
   "attachments": {},
   "cell_type": "markdown",
   "metadata": {},
   "source": [
    "#### Results"
   ]
  },
  {
   "cell_type": "code",
   "execution_count": 84,
   "metadata": {},
   "outputs": [
    {
     "data": {
      "image/png": "[encoded data removed]",
      "text/plain": [
       "<Figure size 2000x500 with 4 Axes>"
      ]
     },
     "metadata": {},
     "output_type": "display_data"
    }
   ],
   "source": [
    "from matplotlib import pyplot\n",
    "\n",
    "fig, axes = pyplot.subplots(ncols=4, figsize=(20, 5), sharey=False)\n",
    "\n",
    "axes[0].set_xlabel('Number of epochs')\n",
    "axes[0].set_ylabel('NLL')\n",
    "axes[0].plot(range(0,len(train_losses)), train_losses)\n",
    "axes[0].set_title('Training loss curve')\n",
    "\n",
    "axes[1].set_xlabel('Number of epochs')\n",
    "axes[1].set_ylabel('NLL')\n",
    "axes[1].plot(range(0,len(train_losses)), test_losses)\n",
    "axes[1].set_title('Test loss curve')\n",
    "\n",
    "axes[2].set_xlabel('Number of epochs')\n",
    "axes[2].set_ylabel('Accuracy')\n",
    "axes[2].plot(range(0,len(train_losses)), list(map(lambda x : x/float(n_train), train_correct_list)))\n",
    "axes[2].set_title('Training accuracy curve')\n",
    "\n",
    "axes[3].set_xlabel('Number of epochs')\n",
    "axes[3].set_ylabel('Accuracy')\n",
    "axes[3].plot(range(0,len(train_losses)), list(map(lambda x : x/float(n_test), test_correct_list)))\n",
    "axes[3].set_title('Test accuracy curve')\n",
    "pyplot.show()"
   ]
  },
  {
   "attachments": {},
   "cell_type": "markdown",
   "metadata": {},
   "source": [
    "## Attempt 4th down"
   ]
  },
  {
   "cell_type": "markdown",
   "metadata": {},
   "source": [
    "#### Data setup"
   ]
  },
  {
   "cell_type": "code",
   "execution_count": 89,
   "metadata": {},
   "outputs": [],
   "source": [
    "X_train, X_test, y_train, y_test = helpers.attempt_data_split(nn=True)\n",
    "\n",
    "batch_size = 64\n",
    "train_dataset = torch.utils.data.TensorDataset(torch.tensor(X_train.values), torch.tensor(y_train))\n",
    "train_loader = torch.utils.data.DataLoader(train_dataset, batch_size=batch_size, shuffle=False, num_workers=True)\n",
    "\n",
    "X_test = torch.tensor(X_test.values)\n",
    "y_test = torch.tensor(y_test)\n",
    "\n",
    "n_train, p = X_train.shape\n",
    "n_test, p = X_test.shape"
   ]
  },
  {
   "attachments": {},
   "cell_type": "markdown",
   "metadata": {},
   "source": [
    "#### Class"
   ]
  },
  {
   "cell_type": "code",
   "execution_count": 90,
   "metadata": {},
   "outputs": [],
   "source": [
    "input_size = 4   # input size\n",
    "hidden_size = 10  # width of hidden layer\n",
    "output_size = 3   # number of output neurons\n",
    "\n",
    "class NNClassifier(torch.nn.Module):\n",
    "    \n",
    "    def __init__(self):\n",
    "        \n",
    "        super().__init__()\n",
    "        self.fc1 = torch.nn.Linear(input_size, hidden_size)\n",
    "        self.act = torch.nn.ReLU()\n",
    "        self.fc2 = torch.nn.Linear(hidden_size, output_size)\n",
    "        self.log_softmax = torch.nn.LogSoftmax()\n",
    "    \n",
    "    def forward(self, x):\n",
    "        x = self.fc1(x)\n",
    "        x = self.act(x)\n",
    "        x = self.fc2(x)\n",
    "        x = self.act(x)\n",
    "        y_output = self.log_softmax(x)\n",
    "        return y_output"
   ]
  },
  {
   "attachments": {},
   "cell_type": "markdown",
   "metadata": {},
   "source": [
    "#### Testing / Training"
   ]
  },
  {
   "cell_type": "code",
   "execution_count": 91,
   "metadata": {},
   "outputs": [],
   "source": [
    "def train_one_epoch(train_loader, model, optimizer, log_interval, epoch):\n",
    "    model.train()\n",
    "    loss_function = torch.nn.CrossEntropyLoss()\n",
    "    train_loss = 0\n",
    "    num_correct = 0\n",
    "    \n",
    "    for i, (feature, label) in enumerate(train_loader):\n",
    "        feature = feature.float()\n",
    "        label = label.long()\n",
    "\n",
    "        optimizer.zero_grad()\n",
    "        ans = model(feature)\n",
    "        loss = loss_function(ans, label)\n",
    "        loss.backward()\n",
    "        optimizer.step()\n",
    "\n",
    "        pred = ans.argmax(dim=1, keepdim=True) # Get index of largest log-probability and use that as prediction\n",
    "        num_correct += (pred == label.view_as(pred)).sum().item()\n",
    "        train_loss += loss.item()\n",
    "    \n",
    "    return train_loss, num_correct\n",
    "\n",
    "def test_one_epoch(X_test, Y_test, model):\n",
    "    model.eval()\n",
    "    loss_function = torch.nn.CrossEntropyLoss()\n",
    "    test_loss = 0\n",
    "    num_correct = 0\n",
    "    \n",
    "    with torch.no_grad():\n",
    "        feature = X_test.float()\n",
    "        label = Y_test.long()\n",
    "        output = model(feature)\n",
    "        \n",
    "        pred = output.argmax(dim=1, keepdim=True) # Get index of largest log-probability and use that as prediction\n",
    "        num_correct += (pred == label.view_as(pred)).sum().item()\n",
    "        test_loss += torch.nn.functional.nll_loss(output, label.long(), reduction='sum').item()\n",
    "\n",
    "    return test_loss, num_correct"
   ]
  },
  {
   "attachments": {},
   "cell_type": "markdown",
   "metadata": {},
   "source": [
    "#### Running"
   ]
  },
  {
   "cell_type": "code",
   "execution_count": 94,
   "metadata": {},
   "outputs": [
    {
     "name": "stderr",
     "output_type": "stream",
     "text": [
      "Epochs:   0%|          | 0/1000 [00:00<?, ?it/s]/var/folders/8r/q18lgzp95917cyrn8bqmq1c80000gn/T/ipykernel_68606/3132185011.py:20: UserWarning: Implicit dimension choice for log_softmax has been deprecated. Change the call to include dim=X as an argument.\n",
      "  y_output = self.log_softmax(x)\n",
      "Epochs:   0%|          | 1/1000 [00:02<34:17,  2.06s/it]"
     ]
    },
    {
     "name": "stdout",
     "output_type": "stream",
     "text": [
      "cross entropy loss 5.61249728308243 1.184569686230761\n",
      "accuracy 0.24224930511011333 0.1633176571184267\n"
     ]
    },
    {
     "name": "stderr",
     "output_type": "stream",
     "text": [
      "Epochs:   2%|▏         | 21/1000 [00:36<28:16,  1.73s/it]"
     ]
    },
    {
     "name": "stdout",
     "output_type": "stream",
     "text": [
      "cross entropy loss 1.1003460657028925 1.1017757446758765\n",
      "accuracy 0.16891169553132349 0.1628901239846088\n"
     ]
    },
    {
     "name": "stderr",
     "output_type": "stream",
     "text": [
      "Epochs:   4%|▍         | 41/1000 [01:11<27:33,  1.72s/it]"
     ]
    },
    {
     "name": "stdout",
     "output_type": "stream",
     "text": [
      "cross entropy loss 1.0993554762431554 1.099566684313542\n",
      "accuracy 0.17083600598674364 0.1658828559213339\n"
     ]
    },
    {
     "name": "stderr",
     "output_type": "stream",
     "text": [
      "Epochs:   6%|▌         | 61/1000 [01:46<27:41,  1.77s/it]"
     ]
    },
    {
     "name": "stdout",
     "output_type": "stream",
     "text": [
      "cross entropy loss 1.0990601745592494 1.099088632127779\n",
      "accuracy 0.1710498182595681 0.16802052159042324\n"
     ]
    },
    {
     "name": "stderr",
     "output_type": "stream",
     "text": [
      "Epochs:   8%|▊         | 81/1000 [02:21<26:23,  1.72s/it]"
     ]
    },
    {
     "name": "stdout",
     "output_type": "stream",
     "text": [
      "cross entropy loss 1.0988797079138204 1.0989288290936297\n",
      "accuracy 0.17137053666880478 0.168875587858059\n"
     ]
    },
    {
     "name": "stderr",
     "output_type": "stream",
     "text": [
      "Epochs:  10%|█         | 101/1000 [02:56<26:23,  1.76s/it]"
     ]
    },
    {
     "name": "stdout",
     "output_type": "stream",
     "text": [
      "cross entropy loss 1.0987759771801175 1.0988616095286448\n",
      "accuracy 0.17169125507804148 0.16973065412569474\n"
     ]
    },
    {
     "name": "stderr",
     "output_type": "stream",
     "text": [
      "Epochs:  12%|█▏        | 121/1000 [03:31<25:29,  1.74s/it]"
     ]
    },
    {
     "name": "stdout",
     "output_type": "stream",
     "text": [
      "cross entropy loss 1.098704651099484 1.0988489797656584\n",
      "accuracy 0.1717981612144537 0.17015818725951262\n"
     ]
    },
    {
     "name": "stderr",
     "output_type": "stream",
     "text": [
      "Epochs:  14%|█▍        | 141/1000 [04:05<24:26,  1.71s/it]"
     ]
    },
    {
     "name": "stdout",
     "output_type": "stream",
     "text": [
      "cross entropy loss 1.0986538046882266 1.0988262253166416\n",
      "accuracy 0.1717981612144537 0.17015818725951262\n"
     ]
    },
    {
     "name": "stderr",
     "output_type": "stream",
     "text": [
      "Epochs:  16%|█▌        | 161/1000 [04:39<24:06,  1.72s/it]"
     ]
    },
    {
     "name": "stdout",
     "output_type": "stream",
     "text": [
      "cross entropy loss 1.0986239042411856 1.0987971037970286\n",
      "accuracy 0.17190506735086594 0.17015818725951262\n"
     ]
    },
    {
     "name": "stderr",
     "output_type": "stream",
     "text": [
      "Epochs:  18%|█▊        | 181/1000 [05:14<23:16,  1.70s/it]"
     ]
    },
    {
     "name": "stdout",
     "output_type": "stream",
     "text": [
      "cross entropy loss 1.098609006323782 1.0987761237775224\n",
      "accuracy 0.1721188796236904 0.17015818725951262\n"
     ]
    },
    {
     "name": "stderr",
     "output_type": "stream",
     "text": [
      "Epochs:  20%|██        | 201/1000 [05:48<22:54,  1.72s/it]"
     ]
    },
    {
     "name": "stdout",
     "output_type": "stream",
     "text": [
      "cross entropy loss 1.0985996690737148 1.0987619283414387\n",
      "accuracy 0.17222578576010264 0.17015818725951262\n"
     ]
    },
    {
     "name": "stderr",
     "output_type": "stream",
     "text": [
      "Epochs:  22%|██▏       | 221/1000 [06:22<22:24,  1.73s/it]"
     ]
    },
    {
     "name": "stdout",
     "output_type": "stream",
     "text": [
      "cross entropy loss 1.0985936315692202 1.0987479416617678\n",
      "accuracy 0.17222578576010264 0.17015818725951262\n"
     ]
    },
    {
     "name": "stderr",
     "output_type": "stream",
     "text": [
      "Epochs:  24%|██▍       | 241/1000 [07:01<26:15,  2.08s/it]"
     ]
    },
    {
     "name": "stdout",
     "output_type": "stream",
     "text": [
      "cross entropy loss 1.0985869209782606 1.0987365644372595\n",
      "accuracy 0.17222578576010264 0.17058572039333048\n"
     ]
    },
    {
     "name": "stderr",
     "output_type": "stream",
     "text": [
      "Epochs:  26%|██▌       | 261/1000 [07:40<24:09,  1.96s/it]"
     ]
    },
    {
     "name": "stdout",
     "output_type": "stream",
     "text": [
      "cross entropy loss 1.098580661274138 1.0987262309948163\n",
      "accuracy 0.17222578576010264 0.17058572039333048\n"
     ]
    },
    {
     "name": "stderr",
     "output_type": "stream",
     "text": [
      "Epochs:  28%|██▊       | 281/1000 [08:20<23:44,  1.98s/it]"
     ]
    },
    {
     "name": "stdout",
     "output_type": "stream",
     "text": [
      "cross entropy loss 1.0985747616307264 1.0987152712831338\n",
      "accuracy 0.17222578576010264 0.17058572039333048\n"
     ]
    },
    {
     "name": "stderr",
     "output_type": "stream",
     "text": [
      "Epochs:  30%|███       | 301/1000 [08:58<21:28,  1.84s/it]"
     ]
    },
    {
     "name": "stdout",
     "output_type": "stream",
     "text": [
      "cross entropy loss 1.098569554536521 1.098701910872702\n",
      "accuracy 0.17222578576010264 0.17058572039333048\n"
     ]
    },
    {
     "name": "stderr",
     "output_type": "stream",
     "text": [
      "Epochs:  32%|███▏      | 321/1000 [09:34<20:20,  1.80s/it]"
     ]
    },
    {
     "name": "stdout",
     "output_type": "stream",
     "text": [
      "cross entropy loss 1.0985607695417339 1.0986859410071077\n",
      "accuracy 0.1721188796236904 0.17058572039333048\n"
     ]
    },
    {
     "name": "stderr",
     "output_type": "stream",
     "text": [
      "Epochs:  34%|███▍      | 341/1000 [10:11<19:35,  1.78s/it]"
     ]
    },
    {
     "name": "stdout",
     "output_type": "stream",
     "text": [
      "cross entropy loss 1.098544259460605 1.0986685098466225\n",
      "accuracy 0.1721188796236904 0.17058572039333048\n"
     ]
    },
    {
     "name": "stderr",
     "output_type": "stream",
     "text": [
      "Epochs:  36%|███▌      | 361/1000 [10:46<18:29,  1.74s/it]"
     ]
    },
    {
     "name": "stdout",
     "output_type": "stream",
     "text": [
      "cross entropy loss 1.0985298691963663 1.0986524356028218\n",
      "accuracy 0.1721188796236904 0.17058572039333048\n"
     ]
    },
    {
     "name": "stderr",
     "output_type": "stream",
     "text": [
      "Epochs:  38%|███▊      | 381/1000 [11:20<17:47,  1.72s/it]"
     ]
    },
    {
     "name": "stdout",
     "output_type": "stream",
     "text": [
      "cross entropy loss 1.0985196042223042 1.0986375095192924\n",
      "accuracy 0.17222578576010264 0.17058572039333048\n"
     ]
    },
    {
     "name": "stderr",
     "output_type": "stream",
     "text": [
      "Epochs:  40%|████      | 401/1000 [11:55<17:07,  1.72s/it]"
     ]
    },
    {
     "name": "stdout",
     "output_type": "stream",
     "text": [
      "cross entropy loss 1.0985102596737089 1.0986274892114685\n",
      "accuracy 0.17222578576010264 0.17058572039333048\n"
     ]
    },
    {
     "name": "stderr",
     "output_type": "stream",
     "text": [
      "Epochs:  42%|████▏     | 421/1000 [12:29<17:21,  1.80s/it]"
     ]
    },
    {
     "name": "stdout",
     "output_type": "stream",
     "text": [
      "cross entropy loss 1.0985012743748774 1.0986206002498398\n",
      "accuracy 0.17233269189651487 0.17058572039333048\n"
     ]
    },
    {
     "name": "stderr",
     "output_type": "stream",
     "text": [
      "Epochs:  44%|████▍     | 441/1000 [13:06<16:02,  1.72s/it]"
     ]
    },
    {
     "name": "stdout",
     "output_type": "stream",
     "text": [
      "cross entropy loss 1.0984955855778284 1.0986116237240808\n",
      "accuracy 0.17233269189651487 0.17058572039333048\n"
     ]
    },
    {
     "name": "stderr",
     "output_type": "stream",
     "text": [
      "Epochs:  46%|████▌     | 461/1000 [13:41<15:20,  1.71s/it]"
     ]
    },
    {
     "name": "stdout",
     "output_type": "stream",
     "text": [
      "cross entropy loss 1.0984896453870396 1.0986064048137558\n",
      "accuracy 0.17233269189651487 0.17058572039333048\n"
     ]
    },
    {
     "name": "stderr",
     "output_type": "stream",
     "text": [
      "Epochs:  48%|████▊     | 481/1000 [14:15<14:55,  1.73s/it]"
     ]
    },
    {
     "name": "stdout",
     "output_type": "stream",
     "text": [
      "cross entropy loss 1.0984840125453716 1.0986019165508765\n",
      "accuracy 0.17233269189651487 0.17058572039333048\n"
     ]
    },
    {
     "name": "stderr",
     "output_type": "stream",
     "text": [
      "Epochs:  50%|█████     | 501/1000 [14:49<14:09,  1.70s/it]"
     ]
    },
    {
     "name": "stdout",
     "output_type": "stream",
     "text": [
      "cross entropy loss 1.0984785475698458 1.0985985764482684\n",
      "accuracy 0.17233269189651487 0.17058572039333048\n"
     ]
    },
    {
     "name": "stderr",
     "output_type": "stream",
     "text": [
      "Epochs:  52%|█████▏    | 521/1000 [15:26<14:48,  1.85s/it]"
     ]
    },
    {
     "name": "stdout",
     "output_type": "stream",
     "text": [
      "cross entropy loss 1.0984672997273555 1.098598889582888\n",
      "accuracy 0.17233269189651487 0.17058572039333048\n"
     ]
    },
    {
     "name": "stderr",
     "output_type": "stream",
     "text": [
      "Epochs:  54%|█████▍    | 541/1000 [16:03<13:03,  1.71s/it]"
     ]
    },
    {
     "name": "stdout",
     "output_type": "stream",
     "text": [
      "cross entropy loss 1.0984368932490447 1.0986125631279393\n",
      "accuracy 0.17233269189651487 0.17058572039333048\n"
     ]
    },
    {
     "name": "stderr",
     "output_type": "stream",
     "text": [
      "Epochs:  56%|█████▌    | 561/1000 [16:37<12:18,  1.68s/it]"
     ]
    },
    {
     "name": "stdout",
     "output_type": "stream",
     "text": [
      "cross entropy loss 1.0984262868660648 1.0986116237240808\n",
      "accuracy 0.17233269189651487 0.17058572039333048\n"
     ]
    },
    {
     "name": "stderr",
     "output_type": "stream",
     "text": [
      "Epochs:  58%|█████▊    | 581/1000 [17:11<12:51,  1.84s/it]"
     ]
    },
    {
     "name": "stdout",
     "output_type": "stream",
     "text": [
      "cross entropy loss 1.0983397774144905 1.098671536814611\n",
      "accuracy 0.17243959803292708 0.17058572039333048\n"
     ]
    },
    {
     "name": "stderr",
     "output_type": "stream",
     "text": [
      "Epochs:  60%|██████    | 601/1000 [17:46<11:23,  1.71s/it]"
     ]
    },
    {
     "name": "stdout",
     "output_type": "stream",
     "text": [
      "cross entropy loss 1.0983329313952908 1.0986375095192924\n",
      "accuracy 0.17243959803292708 0.17058572039333048\n"
     ]
    },
    {
     "name": "stderr",
     "output_type": "stream",
     "text": [
      "Epochs:  61%|██████▏   | 613/1000 [18:07<11:26,  1.77s/it]\n"
     ]
    },
    {
     "ename": "KeyboardInterrupt",
     "evalue": "",
     "output_type": "error",
     "traceback": [
      "\u001b[0;31m---------------------------------------------------------------------------\u001b[0m",
      "\u001b[0;31mKeyboardInterrupt\u001b[0m                         Traceback (most recent call last)",
      "Cell \u001b[0;32mIn[94], line 20\u001b[0m\n\u001b[1;32m     17\u001b[0m test_correct_list \u001b[39m=\u001b[39m []\n\u001b[1;32m     19\u001b[0m \u001b[39mfor\u001b[39;00m epoch \u001b[39min\u001b[39;00m trange(max_epochs, leave\u001b[39m=\u001b[39m\u001b[39mTrue\u001b[39;00m, desc\u001b[39m=\u001b[39m\u001b[39m'\u001b[39m\u001b[39mEpochs\u001b[39m\u001b[39m'\u001b[39m):\n\u001b[0;32m---> 20\u001b[0m     train_loss, train_correct \u001b[39m=\u001b[39m train_one_epoch(train_loader, model, optimizer, log_interval, epoch)\n\u001b[1;32m     22\u001b[0m     \u001b[39mif\u001b[39;00m epoch \u001b[39m%\u001b[39m log_interval \u001b[39m==\u001b[39m \u001b[39m0\u001b[39m:\n\u001b[1;32m     23\u001b[0m         test_loss, test_correct \u001b[39m=\u001b[39m test_one_epoch(X_test, y_test, model)\n",
      "Cell \u001b[0;32mIn[91], line 7\u001b[0m, in \u001b[0;36mtrain_one_epoch\u001b[0;34m(train_loader, model, optimizer, log_interval, epoch)\u001b[0m\n\u001b[1;32m      4\u001b[0m train_loss \u001b[39m=\u001b[39m \u001b[39m0\u001b[39m\n\u001b[1;32m      5\u001b[0m num_correct \u001b[39m=\u001b[39m \u001b[39m0\u001b[39m\n\u001b[0;32m----> 7\u001b[0m \u001b[39mfor\u001b[39;00m i, (feature, label) \u001b[39min\u001b[39;00m \u001b[39menumerate\u001b[39m(train_loader):\n\u001b[1;32m      8\u001b[0m     feature \u001b[39m=\u001b[39m feature\u001b[39m.\u001b[39mfloat()\n\u001b[1;32m      9\u001b[0m     label \u001b[39m=\u001b[39m label\u001b[39m.\u001b[39mlong()\n",
      "File \u001b[0;32m/usr/local/lib/python3.9/site-packages/torch/utils/data/dataloader.py:634\u001b[0m, in \u001b[0;36m_BaseDataLoaderIter.__next__\u001b[0;34m(self)\u001b[0m\n\u001b[1;32m    631\u001b[0m \u001b[39mif\u001b[39;00m \u001b[39mself\u001b[39m\u001b[39m.\u001b[39m_sampler_iter \u001b[39mis\u001b[39;00m \u001b[39mNone\u001b[39;00m:\n\u001b[1;32m    632\u001b[0m     \u001b[39m# TODO(https://github.com/pytorch/pytorch/issues/76750)\u001b[39;00m\n\u001b[1;32m    633\u001b[0m     \u001b[39mself\u001b[39m\u001b[39m.\u001b[39m_reset()  \u001b[39m# type: ignore[call-arg]\u001b[39;00m\n\u001b[0;32m--> 634\u001b[0m data \u001b[39m=\u001b[39m \u001b[39mself\u001b[39;49m\u001b[39m.\u001b[39;49m_next_data()\n\u001b[1;32m    635\u001b[0m \u001b[39mself\u001b[39m\u001b[39m.\u001b[39m_num_yielded \u001b[39m+\u001b[39m\u001b[39m=\u001b[39m \u001b[39m1\u001b[39m\n\u001b[1;32m    636\u001b[0m \u001b[39mif\u001b[39;00m \u001b[39mself\u001b[39m\u001b[39m.\u001b[39m_dataset_kind \u001b[39m==\u001b[39m _DatasetKind\u001b[39m.\u001b[39mIterable \u001b[39mand\u001b[39;00m \\\n\u001b[1;32m    637\u001b[0m         \u001b[39mself\u001b[39m\u001b[39m.\u001b[39m_IterableDataset_len_called \u001b[39mis\u001b[39;00m \u001b[39mnot\u001b[39;00m \u001b[39mNone\u001b[39;00m \u001b[39mand\u001b[39;00m \\\n\u001b[1;32m    638\u001b[0m         \u001b[39mself\u001b[39m\u001b[39m.\u001b[39m_num_yielded \u001b[39m>\u001b[39m \u001b[39mself\u001b[39m\u001b[39m.\u001b[39m_IterableDataset_len_called:\n",
      "File \u001b[0;32m/usr/local/lib/python3.9/site-packages/torch/utils/data/dataloader.py:1329\u001b[0m, in \u001b[0;36m_MultiProcessingDataLoaderIter._next_data\u001b[0;34m(self)\u001b[0m\n\u001b[1;32m   1326\u001b[0m     \u001b[39mreturn\u001b[39;00m \u001b[39mself\u001b[39m\u001b[39m.\u001b[39m_process_data(data)\n\u001b[1;32m   1328\u001b[0m \u001b[39massert\u001b[39;00m \u001b[39mnot\u001b[39;00m \u001b[39mself\u001b[39m\u001b[39m.\u001b[39m_shutdown \u001b[39mand\u001b[39;00m \u001b[39mself\u001b[39m\u001b[39m.\u001b[39m_tasks_outstanding \u001b[39m>\u001b[39m \u001b[39m0\u001b[39m\n\u001b[0;32m-> 1329\u001b[0m idx, data \u001b[39m=\u001b[39m \u001b[39mself\u001b[39;49m\u001b[39m.\u001b[39;49m_get_data()\n\u001b[1;32m   1330\u001b[0m \u001b[39mself\u001b[39m\u001b[39m.\u001b[39m_tasks_outstanding \u001b[39m-\u001b[39m\u001b[39m=\u001b[39m \u001b[39m1\u001b[39m\n\u001b[1;32m   1331\u001b[0m \u001b[39mif\u001b[39;00m \u001b[39mself\u001b[39m\u001b[39m.\u001b[39m_dataset_kind \u001b[39m==\u001b[39m _DatasetKind\u001b[39m.\u001b[39mIterable:\n\u001b[1;32m   1332\u001b[0m     \u001b[39m# Check for _IterableDatasetStopIteration\u001b[39;00m\n",
      "File \u001b[0;32m/usr/local/lib/python3.9/site-packages/torch/utils/data/dataloader.py:1295\u001b[0m, in \u001b[0;36m_MultiProcessingDataLoaderIter._get_data\u001b[0;34m(self)\u001b[0m\n\u001b[1;32m   1291\u001b[0m     \u001b[39m# In this case, `self._data_queue` is a `queue.Queue`,. But we don't\u001b[39;00m\n\u001b[1;32m   1292\u001b[0m     \u001b[39m# need to call `.task_done()` because we don't use `.join()`.\u001b[39;00m\n\u001b[1;32m   1293\u001b[0m \u001b[39melse\u001b[39;00m:\n\u001b[1;32m   1294\u001b[0m     \u001b[39mwhile\u001b[39;00m \u001b[39mTrue\u001b[39;00m:\n\u001b[0;32m-> 1295\u001b[0m         success, data \u001b[39m=\u001b[39m \u001b[39mself\u001b[39;49m\u001b[39m.\u001b[39;49m_try_get_data()\n\u001b[1;32m   1296\u001b[0m         \u001b[39mif\u001b[39;00m success:\n\u001b[1;32m   1297\u001b[0m             \u001b[39mreturn\u001b[39;00m data\n",
      "File \u001b[0;32m/usr/local/lib/python3.9/site-packages/torch/utils/data/dataloader.py:1133\u001b[0m, in \u001b[0;36m_MultiProcessingDataLoaderIter._try_get_data\u001b[0;34m(self, timeout)\u001b[0m\n\u001b[1;32m   1120\u001b[0m \u001b[39mdef\u001b[39;00m \u001b[39m_try_get_data\u001b[39m(\u001b[39mself\u001b[39m, timeout\u001b[39m=\u001b[39m_utils\u001b[39m.\u001b[39mMP_STATUS_CHECK_INTERVAL):\n\u001b[1;32m   1121\u001b[0m     \u001b[39m# Tries to fetch data from `self._data_queue` once for a given timeout.\u001b[39;00m\n\u001b[1;32m   1122\u001b[0m     \u001b[39m# This can also be used as inner loop of fetching without timeout, with\u001b[39;00m\n\u001b[0;32m   (...)\u001b[0m\n\u001b[1;32m   1130\u001b[0m     \u001b[39m# Returns a 2-tuple:\u001b[39;00m\n\u001b[1;32m   1131\u001b[0m     \u001b[39m#   (bool: whether successfully get data, any: data if successful else None)\u001b[39;00m\n\u001b[1;32m   1132\u001b[0m     \u001b[39mtry\u001b[39;00m:\n\u001b[0;32m-> 1133\u001b[0m         data \u001b[39m=\u001b[39m \u001b[39mself\u001b[39;49m\u001b[39m.\u001b[39;49m_data_queue\u001b[39m.\u001b[39;49mget(timeout\u001b[39m=\u001b[39;49mtimeout)\n\u001b[1;32m   1134\u001b[0m         \u001b[39mreturn\u001b[39;00m (\u001b[39mTrue\u001b[39;00m, data)\n\u001b[1;32m   1135\u001b[0m     \u001b[39mexcept\u001b[39;00m \u001b[39mException\u001b[39;00m \u001b[39mas\u001b[39;00m e:\n\u001b[1;32m   1136\u001b[0m         \u001b[39m# At timeout and error, we manually check whether any worker has\u001b[39;00m\n\u001b[1;32m   1137\u001b[0m         \u001b[39m# failed. Note that this is the only mechanism for Windows to detect\u001b[39;00m\n\u001b[1;32m   1138\u001b[0m         \u001b[39m# worker failures.\u001b[39;00m\n",
      "File \u001b[0;32m/usr/local/Cellar/python@3.9/3.9.13_1/Frameworks/Python.framework/Versions/3.9/lib/python3.9/multiprocessing/queues.py:113\u001b[0m, in \u001b[0;36mQueue.get\u001b[0;34m(self, block, timeout)\u001b[0m\n\u001b[1;32m    111\u001b[0m \u001b[39mif\u001b[39;00m block:\n\u001b[1;32m    112\u001b[0m     timeout \u001b[39m=\u001b[39m deadline \u001b[39m-\u001b[39m time\u001b[39m.\u001b[39mmonotonic()\n\u001b[0;32m--> 113\u001b[0m     \u001b[39mif\u001b[39;00m \u001b[39mnot\u001b[39;00m \u001b[39mself\u001b[39;49m\u001b[39m.\u001b[39;49m_poll(timeout):\n\u001b[1;32m    114\u001b[0m         \u001b[39mraise\u001b[39;00m Empty\n\u001b[1;32m    115\u001b[0m \u001b[39melif\u001b[39;00m \u001b[39mnot\u001b[39;00m \u001b[39mself\u001b[39m\u001b[39m.\u001b[39m_poll():\n",
      "File \u001b[0;32m/usr/local/Cellar/python@3.9/3.9.13_1/Frameworks/Python.framework/Versions/3.9/lib/python3.9/multiprocessing/connection.py:262\u001b[0m, in \u001b[0;36m_ConnectionBase.poll\u001b[0;34m(self, timeout)\u001b[0m\n\u001b[1;32m    260\u001b[0m \u001b[39mself\u001b[39m\u001b[39m.\u001b[39m_check_closed()\n\u001b[1;32m    261\u001b[0m \u001b[39mself\u001b[39m\u001b[39m.\u001b[39m_check_readable()\n\u001b[0;32m--> 262\u001b[0m \u001b[39mreturn\u001b[39;00m \u001b[39mself\u001b[39;49m\u001b[39m.\u001b[39;49m_poll(timeout)\n",
      "File \u001b[0;32m/usr/local/Cellar/python@3.9/3.9.13_1/Frameworks/Python.framework/Versions/3.9/lib/python3.9/multiprocessing/connection.py:429\u001b[0m, in \u001b[0;36mConnection._poll\u001b[0;34m(self, timeout)\u001b[0m\n\u001b[1;32m    428\u001b[0m \u001b[39mdef\u001b[39;00m \u001b[39m_poll\u001b[39m(\u001b[39mself\u001b[39m, timeout):\n\u001b[0;32m--> 429\u001b[0m     r \u001b[39m=\u001b[39m wait([\u001b[39mself\u001b[39;49m], timeout)\n\u001b[1;32m    430\u001b[0m     \u001b[39mreturn\u001b[39;00m \u001b[39mbool\u001b[39m(r)\n",
      "File \u001b[0;32m/usr/local/Cellar/python@3.9/3.9.13_1/Frameworks/Python.framework/Versions/3.9/lib/python3.9/multiprocessing/connection.py:936\u001b[0m, in \u001b[0;36mwait\u001b[0;34m(object_list, timeout)\u001b[0m\n\u001b[1;32m    933\u001b[0m     deadline \u001b[39m=\u001b[39m time\u001b[39m.\u001b[39mmonotonic() \u001b[39m+\u001b[39m timeout\n\u001b[1;32m    935\u001b[0m \u001b[39mwhile\u001b[39;00m \u001b[39mTrue\u001b[39;00m:\n\u001b[0;32m--> 936\u001b[0m     ready \u001b[39m=\u001b[39m selector\u001b[39m.\u001b[39;49mselect(timeout)\n\u001b[1;32m    937\u001b[0m     \u001b[39mif\u001b[39;00m ready:\n\u001b[1;32m    938\u001b[0m         \u001b[39mreturn\u001b[39;00m [key\u001b[39m.\u001b[39mfileobj \u001b[39mfor\u001b[39;00m (key, events) \u001b[39min\u001b[39;00m ready]\n",
      "File \u001b[0;32m/usr/local/Cellar/python@3.9/3.9.13_1/Frameworks/Python.framework/Versions/3.9/lib/python3.9/selectors.py:416\u001b[0m, in \u001b[0;36m_PollLikeSelector.select\u001b[0;34m(self, timeout)\u001b[0m\n\u001b[1;32m    414\u001b[0m ready \u001b[39m=\u001b[39m []\n\u001b[1;32m    415\u001b[0m \u001b[39mtry\u001b[39;00m:\n\u001b[0;32m--> 416\u001b[0m     fd_event_list \u001b[39m=\u001b[39m \u001b[39mself\u001b[39;49m\u001b[39m.\u001b[39;49m_selector\u001b[39m.\u001b[39;49mpoll(timeout)\n\u001b[1;32m    417\u001b[0m \u001b[39mexcept\u001b[39;00m \u001b[39mInterruptedError\u001b[39;00m:\n\u001b[1;32m    418\u001b[0m     \u001b[39mreturn\u001b[39;00m ready\n",
      "\u001b[0;31mKeyboardInterrupt\u001b[0m: "
     ]
    }
   ],
   "source": [
    "# Hyperparameters\n",
    "lr = 0.0001\n",
    "wd = 0.02\n",
    "max_epochs = 1000\n",
    "\n",
    "# Print results\n",
    "log_interval = 20\n",
    "\n",
    "model = NNClassifier()\n",
    "\n",
    "# Instantiate optimizer (model was created in previous cell)\n",
    "optimizer = torch.optim.SGD(model.parameters(), lr=lr, weight_decay=wd)\n",
    "\n",
    "train_losses = []\n",
    "train_correct_list = []\n",
    "test_losses = []\n",
    "test_correct_list = []\n",
    "\n",
    "for epoch in trange(max_epochs, leave=True, desc='Epochs'):\n",
    "    train_loss, train_correct = train_one_epoch(train_loader, model, optimizer, log_interval, epoch)\n",
    "    \n",
    "    if epoch % log_interval == 0:\n",
    "        test_loss, test_correct = test_one_epoch(X_test, y_test, model)\n",
    "\n",
    "        # Record results\n",
    "        train_losses.append(train_loss)\n",
    "        train_correct_list.append(train_correct)\n",
    "        test_losses.append(test_loss)\n",
    "        test_correct_list.append(test_correct)\n",
    "        \n",
    "        print('cross entropy loss', train_loss / len(train_loader), test_loss / float(n_test))\n",
    "        print('accuracy', train_correct / float(n_train), test_correct / float(n_test))"
   ]
  },
  {
   "attachments": {},
   "cell_type": "markdown",
   "metadata": {},
   "source": [
    "#### Results"
   ]
  },
  {
   "cell_type": "code",
   "execution_count": 95,
   "metadata": {},
   "outputs": [
    {
     "data": {
      "image/png": "[encoded data removed]",
      "text/plain": [
       "<Figure size 2000x500 with 4 Axes>"
      ]
     },
     "metadata": {},
     "output_type": "display_data"
    }
   ],
   "source": [
    "from matplotlib import pyplot\n",
    "\n",
    "fig, axes = pyplot.subplots(ncols=4, figsize=(20, 5), sharey=False)\n",
    "\n",
    "axes[0].set_xlabel('Number of epochs')\n",
    "axes[0].set_ylabel('NLL')\n",
    "axes[0].plot(range(0,len(train_losses)), train_losses)\n",
    "axes[0].set_title('Training loss curve')\n",
    "\n",
    "axes[1].set_xlabel('Number of epochs')\n",
    "axes[1].set_ylabel('NLL')\n",
    "axes[1].plot(range(0,len(train_losses)), test_losses)\n",
    "axes[1].set_title('Test loss curve')\n",
    "\n",
    "axes[2].set_xlabel('Number of epochs')\n",
    "axes[2].set_ylabel('Accuracy')\n",
    "axes[2].plot(range(0,len(train_losses)), list(map(lambda x : x/float(n_train), train_correct_list)))\n",
    "axes[2].set_title('Training accuracy curve')\n",
    "\n",
    "axes[3].set_xlabel('Number of epochs')\n",
    "axes[3].set_ylabel('Accuracy')\n",
    "axes[3].plot(range(0,len(train_losses)), list(map(lambda x : x/float(n_test), test_correct_list)))\n",
    "axes[3].set_title('Test accuracy curve')\n",
    "pyplot.show()"
   ]
  }
 ],
 "metadata": {
  "kernelspec": {
   "display_name": "Python 3",
   "language": "python",
   "name": "python3"
  },
  "language_info": {
   "codemirror_mode": {
    "name": "ipython",
    "version": 3
   },
   "file_extension": ".py",
   "mimetype": "text/x-python",
   "name": "python",
   "nbconvert_exporter": "python",
   "pygments_lexer": "ipython3",
   "version": "3.9.13"
  },
  "orig_nbformat": 4
 },
 "nbformat": 4,
 "nbformat_minor": 2
}
