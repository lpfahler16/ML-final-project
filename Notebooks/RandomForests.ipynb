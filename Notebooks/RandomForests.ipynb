{
 "cells": [
  {
   "attachments": {},
   "cell_type": "markdown",
   "metadata": {},
   "source": [
    "# Starter Code"
   ]
  },
  {
   "cell_type": "code",
   "execution_count": 142,
   "metadata": {},
   "outputs": [],
   "source": [
    "import numpy as np\n",
    "import pandas as pd\n",
    "from sklearn.ensemble import RandomForestClassifier\n",
    "from sklearn.model_selection import train_test_split"
   ]
  },
  {
   "cell_type": "code",
   "execution_count": 143,
   "metadata": {},
   "outputs": [],
   "source": [
    "df_2018 = pd.read_csv('../data/2018.csv')\n",
    "df_2017 = pd.read_csv('../data/2017.csv')\n",
    "df_2016 = pd.read_csv('../data/2016.csv')\n",
    "\n",
    "def get_classifier_convert(df):\n",
    "    conditions = [\n",
    "        (df['fourth_down_converted'] == 1.0),\n",
    "        (df['fourth_down_failed'] == 1.0),\n",
    "        (df['field_goal_attempt'] == 1.0),\n",
    "        (df['punt_attempt'] == 1.0)\n",
    "    ]\n",
    "\n",
    "    results = ['CONVERTED', 'FAILED', 'FIELD_GOAL', 'PUNT']\n",
    "\n",
    "    y = np.select(conditions, results)\n",
    "    return y\n",
    "\n",
    "def get_classifier_attempt(df):\n",
    "    conditions = [\n",
    "        (df['fourth_down_converted'] == 1.0) | (df['fourth_down_failed'] == 1.0),\n",
    "        (df['field_goal_attempt'] == 1.0),\n",
    "        (df['punt_attempt'] == 1.0)\n",
    "    ]\n",
    "\n",
    "    results = ['ATTEMPTED', 'FIELD_GOAL', 'PUNT']\n",
    "\n",
    "    y = np.select(conditions, results)\n",
    "    return y\n",
    "\n",
    "def ready_data_convert(df):\n",
    "    df = df.dropna()\n",
    "    y = get_classifier_convert(df)\n",
    "    df = df.drop(columns=['posteam', 'fourth_down_converted', 'fourth_down_failed', 'field_goal_attempt', 'punt_attempt', 'game_date', 'down'])\n",
    "    return df, y\n",
    "\n",
    "def ready_data_attempt(df):\n",
    "    df = df.dropna()\n",
    "    y = get_classifier_attempt(df)\n",
    "    df = df.drop(columns=['posteam', 'fourth_down_converted', 'fourth_down_failed', 'field_goal_attempt', 'punt_attempt', 'game_date', 'down'])\n",
    "    return df, y"
   ]
  },
  {
   "attachments": {},
   "cell_type": "markdown",
   "metadata": {},
   "source": [
    "# Tree"
   ]
  },
  {
   "attachments": {},
   "cell_type": "markdown",
   "metadata": {},
   "source": [
    "## Convert 4th down"
   ]
  },
  {
   "cell_type": "code",
   "execution_count": 144,
   "metadata": {},
   "outputs": [
    {
     "ename": "SyntaxError",
     "evalue": "unexpected EOF while parsing (3549174996.py, line 7)",
     "output_type": "error",
     "traceback": [
      "\u001b[0;36m  Cell \u001b[0;32mIn[144], line 7\u001b[0;36m\u001b[0m\n\u001b[0;31m    print(f\"Train Accuracy: {clf.score(X_train, y_train)}\"\u001b[0m\n\u001b[0m                                                          ^\u001b[0m\n\u001b[0;31mSyntaxError\u001b[0m\u001b[0;31m:\u001b[0m unexpected EOF while parsing\n"
     ]
    }
   ],
   "source": [
    "x, y = ready_data_convert(pd.concat([df_2016, df_2017, df_2018]))\n",
    "X_train, X_test, y_train, y_test = train_test_split(x, y, test_size=0.2, random_state=10)\n",
    "\n",
    "clf = RandomForestClassifier(max_depth=7, random_state=0)\n",
    "clf.fit(X_train, y_train)\n",
    "print(f\"Test Accuracy: {clf.score(X_test, y_test)}\")\n",
    "print(f\"Train Accuracy: {clf.score(X_train, y_train)}\")"
   ]
  },
  {
   "attachments": {},
   "cell_type": "markdown",
   "metadata": {},
   "source": [
    "## Attempt 4th down"
   ]
  },
  {
   "cell_type": "code",
   "execution_count": null,
   "metadata": {},
   "outputs": [
    {
     "name": "stdout",
     "output_type": "stream",
     "text": [
      "Test Accuracy: 0.8849935870029927\n",
      "Train Accuracy: 0.8790891597177678\n",
      "['yardline_100' 'game_seconds_remaining' 'ydstogo' 'score_differential']\n",
      "[0.78087865 0.06367388 0.07767985 0.07776762]\n"
     ]
    }
   ],
   "source": [
    "x, y = ready_data_attempt(pd.concat([df_2016, df_2017, df_2018]))\n",
    "X_train, X_test, y_train, y_test = train_test_split(x, y, test_size=0.2, random_state=10)\n",
    "\n",
    "clf = RandomForestClassifier(max_depth=5, random_state=0)\n",
    "clf.fit(X_train, y_train)\n",
    "print(f\"Test Accuracy: {clf.score(X_test, y_test)}\")\n",
    "print(f\"Train Accuracy: {clf.score(X_train, y_train)}\")\n",
    "print(clf.feature_names_in_)\n",
    "print(clf.feature_importances_)"
   ]
  }
 ],
 "metadata": {
  "kernelspec": {
   "display_name": "Python 3",
   "language": "python",
   "name": "python3"
  },
  "language_info": {
   "codemirror_mode": {
    "name": "ipython",
    "version": 3
   },
   "file_extension": ".py",
   "mimetype": "text/x-python",
   "name": "python",
   "nbconvert_exporter": "python",
   "pygments_lexer": "ipython3",
   "version": "3.9.13"
  },
  "orig_nbformat": 4
 },
 "nbformat": 4,
 "nbformat_minor": 2
}
