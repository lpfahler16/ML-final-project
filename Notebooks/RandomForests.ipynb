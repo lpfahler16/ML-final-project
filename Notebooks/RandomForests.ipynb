{
 "cells": [
  {
   "attachments": {},
   "cell_type": "markdown",
   "metadata": {},
   "source": [
    "# Imports"
   ]
  },
  {
   "cell_type": "code",
   "execution_count": 9,
   "metadata": {},
   "outputs": [],
   "source": [
    "import os\n",
    "scripts_path = os.path.abspath('../scripts')\n",
    "import importlib.util\n",
    "spec = importlib.util.spec_from_file_location(\"helpers\", os.path.join(scripts_path, \"helpers.py\"))\n",
    "helpers = importlib.util.module_from_spec(spec)\n",
    "spec.loader.exec_module(helpers)\n",
    "\n",
    "import math\n",
    "from sklearn.ensemble import RandomForestClassifier\n",
    "from sklearn.model_selection import RandomizedSearchCV\n",
    "from sklearn.metrics import classification_report\n",
    "from joblib import dump"
   ]
  },
  {
   "attachments": {},
   "cell_type": "markdown",
   "metadata": {},
   "source": [
    "# Tree"
   ]
  },
  {
   "attachments": {},
   "cell_type": "markdown",
   "metadata": {},
   "source": [
    "## Convert 4th down"
   ]
  },
  {
   "attachments": {},
   "cell_type": "markdown",
   "metadata": {},
   "source": [
    "### Default params"
   ]
  },
  {
   "cell_type": "code",
   "execution_count": 11,
   "metadata": {},
   "outputs": [
    {
     "name": "stdout",
     "output_type": "stream",
     "text": [
      "Test Accuracy: 0.8567764001710133\n",
      "Train Accuracy: 1.0\n",
      "              precision    recall  f1-score   support\n",
      "\n",
      "           0       0.24      0.07      0.11        85\n",
      "   CONVERTED       0.47      0.38      0.42       160\n",
      "      FAILED       0.47      0.40      0.43       154\n",
      "  FIELD_GOAL       0.88      0.94      0.91       542\n",
      "        PUNT       0.92      0.98      0.95      1398\n",
      "\n",
      "    accuracy                           0.86      2339\n",
      "   macro avg       0.60      0.55      0.56      2339\n",
      "weighted avg       0.83      0.86      0.84      2339\n",
      "\n"
     ]
    }
   ],
   "source": [
    "X_train, X_test, y_train, y_test = helpers.convert_data_split()\n",
    "\n",
    "clf = RandomForestClassifier(random_state=0)\n",
    "\n",
    "clf.fit(X_train, y_train)\n",
    "\n",
    "dump(clf, '../models/random_forest/convert.joblib')\n",
    "\n",
    "print(f\"Test Accuracy: {clf.score(X_test, y_test)}\")\n",
    "print(f\"Train Accuracy: {clf.score(X_train, y_train)}\")\n",
    "\n",
    "report = classification_report(y_test, clf.predict(X_test), zero_division=0)\n",
    "print(report)"
   ]
  },
  {
   "attachments": {},
   "cell_type": "markdown",
   "metadata": {},
   "source": [
    "### Cross Validation"
   ]
  },
  {
   "cell_type": "code",
   "execution_count": 12,
   "metadata": {},
   "outputs": [
    {
     "name": "stdout",
     "output_type": "stream",
     "text": [
      "{'n_estimators': 123, 'min_samples_split': 8, 'max_features': 1, 'max_depth': 36}\n",
      "Test Accuracy: 0.8623343309106456\n",
      "Train Accuracy: 0.9214239897370109\n",
      "              precision    recall  f1-score   support\n",
      "\n",
      "           0       0.00      0.00      0.00        85\n",
      "   CONVERTED       0.51      0.40      0.45       160\n",
      "      FAILED       0.49      0.38      0.43       154\n",
      "  FIELD_GOAL       0.88      0.95      0.91       542\n",
      "        PUNT       0.92      0.99      0.95      1398\n",
      "\n",
      "    accuracy                           0.86      2339\n",
      "   macro avg       0.56      0.54      0.55      2339\n",
      "weighted avg       0.82      0.86      0.84      2339\n",
      "\n"
     ]
    }
   ],
   "source": [
    "X_train, X_test, y_train, y_test = helpers.convert_data_split()\n",
    "\n",
    "parameters = {\n",
    "    'max_features': range(1, math.floor(math.sqrt(len(X_train.iloc[0])))), \n",
    "    'max_depth': range(1, 100),\n",
    "    'n_estimators': range(10, 200),\n",
    "    'min_samples_split': range(2, 20)\n",
    "}\n",
    "clf = RandomizedSearchCV(RandomForestClassifier(random_state=0), parameters, random_state=0, n_iter=200)\n",
    "\n",
    "clf.fit(X_train, y_train)\n",
    "\n",
    "dump(clf.best_estimator_, '../models/random_forest/convert_cv.joblib')\n",
    "\n",
    "print(clf.best_params_)\n",
    "print(f\"Test Accuracy: {clf.score(X_test, y_test)}\")\n",
    "print(f\"Train Accuracy: {clf.score(X_train, y_train)}\")\n",
    "\n",
    "report = classification_report(y_test, clf.predict(X_test), zero_division=0)\n",
    "print(report)"
   ]
  },
  {
   "attachments": {},
   "cell_type": "markdown",
   "metadata": {},
   "source": [
    "## Attempt 4th down"
   ]
  },
  {
   "attachments": {},
   "cell_type": "markdown",
   "metadata": {},
   "source": [
    "### Default Params"
   ]
  },
  {
   "cell_type": "code",
   "execution_count": 13,
   "metadata": {},
   "outputs": [
    {
     "name": "stdout",
     "output_type": "stream",
     "text": [
      "Test Accuracy: 0.8956819153484396\n",
      "Train Accuracy: 1.0\n",
      "              precision    recall  f1-score   support\n",
      "\n",
      "           0       0.28      0.06      0.10        85\n",
      "   ATTEMPTED       0.76      0.71      0.74       314\n",
      "  FIELD_GOAL       0.90      0.93      0.91       542\n",
      "        PUNT       0.93      0.98      0.95      1398\n",
      "\n",
      "    accuracy                           0.90      2339\n",
      "   macro avg       0.72      0.67      0.67      2339\n",
      "weighted avg       0.88      0.90      0.88      2339\n",
      "\n"
     ]
    }
   ],
   "source": [
    "X_train, X_test, y_train, y_test = helpers.attempt_data_split()\n",
    "\n",
    "clf = RandomForestClassifier(random_state=0)\n",
    "clf.fit(X_train, y_train)\n",
    "\n",
    "dump(clf, '../models/random_forest/attempt.joblib')\n",
    "\n",
    "print(f\"Test Accuracy: {clf.score(X_test, y_test)}\")\n",
    "print(f\"Train Accuracy: {clf.score(X_train, y_train)}\")\n",
    "\n",
    "report = classification_report(y_test, clf.predict(X_test), zero_division=0)\n",
    "print(report)"
   ]
  },
  {
   "attachments": {},
   "cell_type": "markdown",
   "metadata": {},
   "source": [
    "### Cross Validation"
   ]
  },
  {
   "cell_type": "code",
   "execution_count": 14,
   "metadata": {},
   "outputs": [
    {
     "name": "stdout",
     "output_type": "stream",
     "text": [
      "{'n_estimators': 80, 'min_samples_split': 9, 'max_features': 1, 'max_depth': 49}\n",
      "Test Accuracy: 0.8961094484822574\n",
      "Train Accuracy: 0.9222792388283088\n",
      "              precision    recall  f1-score   support\n",
      "\n",
      "           0       0.00      0.00      0.00        85\n",
      "   ATTEMPTED       0.77      0.72      0.75       314\n",
      "  FIELD_GOAL       0.89      0.92      0.91       542\n",
      "        PUNT       0.92      0.98      0.95      1398\n",
      "\n",
      "    accuracy                           0.90      2339\n",
      "   macro avg       0.65      0.66      0.65      2339\n",
      "weighted avg       0.86      0.90      0.88      2339\n",
      "\n"
     ]
    }
   ],
   "source": [
    "X_train, X_test, y_train, y_test = helpers.attempt_data_split()\n",
    "\n",
    "parameters = {\n",
    "    'max_features': range(1, math.floor(math.sqrt(len(X_train.iloc[0])))), \n",
    "    'max_depth': range(1, 100),\n",
    "    'n_estimators': range(10, 200),\n",
    "    'min_samples_split': range(2, 20)\n",
    "}\n",
    "clf = RandomizedSearchCV(RandomForestClassifier(random_state=0), parameters, random_state=0, n_iter=200)\n",
    "\n",
    "clf.fit(X_train, y_train)\n",
    "\n",
    "dump(clf.best_estimator_, '../models/random_forest/attempt_cv.joblib')\n",
    "\n",
    "print(clf.best_params_)\n",
    "print(f\"Test Accuracy: {clf.score(X_test, y_test)}\")\n",
    "print(f\"Train Accuracy: {clf.score(X_train, y_train)}\")\n",
    "\n",
    "report = classification_report(y_test, clf.predict(X_test), zero_division=0)\n",
    "print(report)"
   ]
  }
 ],
 "metadata": {
  "kernelspec": {
   "display_name": "Python 3",
   "language": "python",
   "name": "python3"
  },
  "language_info": {
   "codemirror_mode": {
    "name": "ipython",
    "version": 3
   },
   "file_extension": ".py",
   "mimetype": "text/x-python",
   "name": "python",
   "nbconvert_exporter": "python",
   "pygments_lexer": "ipython3",
   "version": "3.9.13"
  },
  "orig_nbformat": 4
 },
 "nbformat": 4,
 "nbformat_minor": 2
}
