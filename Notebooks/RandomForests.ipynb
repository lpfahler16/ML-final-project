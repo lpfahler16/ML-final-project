{
 "cells": [
  {
   "attachments": {},
   "cell_type": "markdown",
   "metadata": {},
   "source": [
    "# Imports"
   ]
  },
  {
   "cell_type": "code",
   "execution_count": 4,
   "metadata": {},
   "outputs": [],
   "source": [
    "import os\n",
    "scripts_path = os.path.abspath('../scripts')\n",
    "import importlib.util\n",
    "spec = importlib.util.spec_from_file_location(\"helpers\", os.path.join(scripts_path, \"helpers.py\"))\n",
    "helpers = importlib.util.module_from_spec(spec)\n",
    "spec.loader.exec_module(helpers)\n",
    "\n",
    "import math\n",
    "from sklearn.ensemble import RandomForestClassifier\n",
    "from sklearn.model_selection import RandomizedSearchCV\n",
    "from sklearn.metrics import classification_report\n",
    "from joblib import dump"
   ]
  },
  {
   "attachments": {},
   "cell_type": "markdown",
   "metadata": {},
   "source": [
    "# Tree"
   ]
  },
  {
   "attachments": {},
   "cell_type": "markdown",
   "metadata": {},
   "source": [
    "## Convert 4th down"
   ]
  },
  {
   "attachments": {},
   "cell_type": "markdown",
   "metadata": {},
   "source": [
    "### Default params"
   ]
  },
  {
   "cell_type": "code",
   "execution_count": 5,
   "metadata": {},
   "outputs": [
    {
     "name": "stdout",
     "output_type": "stream",
     "text": [
      "Test Accuracy: 0.8542074363992173\n",
      "Train Accuracy: 0.9998252481476304\n",
      "              precision    recall  f1-score   support\n",
      "\n",
      "           0       0.06      0.01      0.02       295\n",
      "   CONVERTED       0.39      0.30      0.34       397\n",
      "      FAILED       0.46      0.42      0.43       430\n",
      "  FIELD_GOAL       0.88      0.93      0.91      1711\n",
      "        PUNT       0.92      0.97      0.95      4321\n",
      "\n",
      "    accuracy                           0.85      7154\n",
      "   macro avg       0.54      0.53      0.53      7154\n",
      "weighted avg       0.82      0.85      0.83      7154\n",
      "\n"
     ]
    }
   ],
   "source": [
    "X_train, X_test, y_train, y_test = helpers.convert_data_split()\n",
    "\n",
    "clf = RandomForestClassifier(random_state=0)\n",
    "\n",
    "clf.fit(X_train, y_train)\n",
    "\n",
    "dump(clf, '../models/random_forest/convert.joblib')\n",
    "\n",
    "print(f\"Test Accuracy: {clf.score(X_test, y_test)}\")\n",
    "print(f\"Train Accuracy: {clf.score(X_train, y_train)}\")\n",
    "\n",
    "report = classification_report(y_test, clf.predict(X_test), zero_division=0)\n",
    "print(report)"
   ]
  },
  {
   "attachments": {},
   "cell_type": "markdown",
   "metadata": {},
   "source": [
    "### Cross Validation"
   ]
  },
  {
   "cell_type": "code",
   "execution_count": 6,
   "metadata": {},
   "outputs": [
    {
     "name": "stdout",
     "output_type": "stream",
     "text": [
      "{'n_estimators': 124, 'min_samples_split': 19, 'max_features': 1, 'max_depth': 43}\n",
      "Test Accuracy: 0.8634330444506569\n",
      "Train Accuracy: 0.8889626730043338\n",
      "              precision    recall  f1-score   support\n",
      "\n",
      "           0       0.00      0.00      0.00       295\n",
      "   CONVERTED       0.43      0.27      0.33       397\n",
      "      FAILED       0.52      0.44      0.48       430\n",
      "  FIELD_GOAL       0.87      0.95      0.91      1711\n",
      "        PUNT       0.91      0.98      0.95      4321\n",
      "\n",
      "    accuracy                           0.86      7154\n",
      "   macro avg       0.55      0.53      0.53      7154\n",
      "weighted avg       0.81      0.86      0.84      7154\n",
      "\n"
     ]
    }
   ],
   "source": [
    "X_train, X_test, y_train, y_test = helpers.convert_data_split()\n",
    "\n",
    "parameters = {\n",
    "    'max_features': range(1, math.floor(math.sqrt(len(X_train[0])))), \n",
    "    'max_depth': range(1, 100),\n",
    "    'n_estimators': range(10, 200),\n",
    "    'min_samples_split': range(2, 20)\n",
    "}\n",
    "clf = RandomizedSearchCV(RandomForestClassifier(random_state=0), parameters, random_state=0, n_iter=200)\n",
    "\n",
    "clf.fit(X_train, y_train)\n",
    "\n",
    "dump(clf.best_estimator_, '../models/random_forest/convert_cv.joblib')\n",
    "\n",
    "print(clf.best_params_)\n",
    "print(f\"Test Accuracy: {clf.score(X_test, y_test)}\")\n",
    "print(f\"Train Accuracy: {clf.score(X_train, y_train)}\")\n",
    "\n",
    "report = classification_report(y_test, clf.predict(X_test), zero_division=0)\n",
    "print(report)"
   ]
  },
  {
   "attachments": {},
   "cell_type": "markdown",
   "metadata": {},
   "source": [
    "## Attempt 4th down"
   ]
  },
  {
   "attachments": {},
   "cell_type": "markdown",
   "metadata": {},
   "source": [
    "### Default Params"
   ]
  },
  {
   "cell_type": "code",
   "execution_count": 7,
   "metadata": {},
   "outputs": [
    {
     "name": "stdout",
     "output_type": "stream",
     "text": [
      "Test Accuracy: 0.8827229521945764\n",
      "Train Accuracy: 0.9998252481476304\n",
      "              precision    recall  f1-score   support\n",
      "\n",
      "           0       0.07      0.01      0.02       295\n",
      "   ATTEMPTED       0.70      0.66      0.68       827\n",
      "  FIELD_GOAL       0.88      0.92      0.90      1711\n",
      "        PUNT       0.92      0.97      0.95      4321\n",
      "\n",
      "    accuracy                           0.88      7154\n",
      "   macro avg       0.65      0.64      0.64      7154\n",
      "weighted avg       0.85      0.88      0.87      7154\n",
      "\n"
     ]
    }
   ],
   "source": [
    "X_train, X_test, y_train, y_test = helpers.attempt_data_split()\n",
    "\n",
    "clf = RandomForestClassifier(random_state=0)\n",
    "clf.fit(X_train, y_train)\n",
    "\n",
    "dump(clf, '../models/random_forest/attempt.joblib')\n",
    "\n",
    "print(f\"Test Accuracy: {clf.score(X_test, y_test)}\")\n",
    "print(f\"Train Accuracy: {clf.score(X_train, y_train)}\")\n",
    "\n",
    "report = classification_report(y_test, clf.predict(X_test), zero_division=0)\n",
    "print(report)"
   ]
  },
  {
   "attachments": {},
   "cell_type": "markdown",
   "metadata": {},
   "source": [
    "### Cross Validation"
   ]
  },
  {
   "cell_type": "code",
   "execution_count": 8,
   "metadata": {},
   "outputs": [
    {
     "name": "stdout",
     "output_type": "stream",
     "text": [
      "{'n_estimators': 41, 'min_samples_split': 12, 'max_features': 1, 'max_depth': 15}\n",
      "Test Accuracy: 0.8916689963656695\n",
      "Train Accuracy: 0.9109814064029079\n",
      "              precision    recall  f1-score   support\n",
      "\n",
      "           0       0.00      0.00      0.00       295\n",
      "   ATTEMPTED       0.73      0.68      0.70       827\n",
      "  FIELD_GOAL       0.89      0.93      0.91      1711\n",
      "        PUNT       0.92      0.98      0.95      4321\n",
      "\n",
      "    accuracy                           0.89      7154\n",
      "   macro avg       0.63      0.65      0.64      7154\n",
      "weighted avg       0.85      0.89      0.87      7154\n",
      "\n"
     ]
    }
   ],
   "source": [
    "X_train, X_test, y_train, y_test = helpers.attempt_data_split()\n",
    "\n",
    "parameters = {\n",
    "    'max_features': range(1, math.floor(math.sqrt(len(X_train[0])))), \n",
    "    'max_depth': range(1, 100),\n",
    "    'n_estimators': range(10, 200),\n",
    "    'min_samples_split': range(2, 20)\n",
    "}\n",
    "clf = RandomizedSearchCV(RandomForestClassifier(random_state=0), parameters, random_state=0, n_iter=200)\n",
    "\n",
    "clf.fit(X_train, y_train)\n",
    "\n",
    "dump(clf.best_estimator_, '../models/random_forest/attempt_cv.joblib')\n",
    "\n",
    "print(clf.best_params_)\n",
    "print(f\"Test Accuracy: {clf.score(X_test, y_test)}\")\n",
    "print(f\"Train Accuracy: {clf.score(X_train, y_train)}\")\n",
    "\n",
    "report = classification_report(y_test, clf.predict(X_test), zero_division=0)\n",
    "print(report)"
   ]
  }
 ],
 "metadata": {
  "kernelspec": {
   "display_name": "Python 3",
   "language": "python",
   "name": "python3"
  },
  "language_info": {
   "codemirror_mode": {
    "name": "ipython",
    "version": 3
   },
   "file_extension": ".py",
   "mimetype": "text/x-python",
   "name": "python",
   "nbconvert_exporter": "python",
   "pygments_lexer": "ipython3",
   "version": "3.9.13"
  },
  "orig_nbformat": 4
 },
 "nbformat": 4,
 "nbformat_minor": 2
}
