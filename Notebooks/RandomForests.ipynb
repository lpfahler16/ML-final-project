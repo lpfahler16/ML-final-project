{
 "cells": [
  {
   "attachments": {},
   "cell_type": "markdown",
   "metadata": {},
   "source": [
    "# Starter Code"
   ]
  },
  {
   "cell_type": "code",
   "execution_count": 8,
   "metadata": {},
   "outputs": [],
   "source": [
    "import numpy as np\n",
    "import pandas as pd\n",
    "import math\n",
    "from sklearn.ensemble import RandomForestClassifier\n",
    "from sklearn.model_selection import train_test_split, RandomizedSearchCV\n",
    "from sklearn.metrics import classification_report\n",
    "from joblib import dump, load"
   ]
  },
  {
   "cell_type": "code",
   "execution_count": 9,
   "metadata": {},
   "outputs": [],
   "source": [
    "df_2018 = pd.read_csv('../data/2018.csv')\n",
    "df_2017 = pd.read_csv('../data/2017.csv')\n",
    "df_2016 = pd.read_csv('../data/2016.csv')\n",
    "\n",
    "def get_classifier_convert(df):\n",
    "    conditions = [\n",
    "        (df['fourth_down_converted'] == 1.0),\n",
    "        (df['fourth_down_failed'] == 1.0),\n",
    "        (df['field_goal_attempt'] == 1.0),\n",
    "        (df['punt_attempt'] == 1.0)\n",
    "    ]\n",
    "\n",
    "    results = ['CONVERTED', 'FAILED', 'FIELD_GOAL', 'PUNT']\n",
    "\n",
    "    y = np.select(conditions, results)\n",
    "    return y\n",
    "\n",
    "def get_classifier_attempt(df):\n",
    "    conditions = [\n",
    "        (df['fourth_down_converted'] == 1.0) | (df['fourth_down_failed'] == 1.0),\n",
    "        (df['field_goal_attempt'] == 1.0),\n",
    "        (df['punt_attempt'] == 1.0)\n",
    "    ]\n",
    "\n",
    "    results = ['ATTEMPTED', 'FIELD_GOAL', 'PUNT']\n",
    "\n",
    "    y = np.select(conditions, results)\n",
    "    return y\n",
    "\n",
    "def ready_data_convert(df):\n",
    "    df = df.dropna()\n",
    "    y = get_classifier_convert(df)\n",
    "    df = df.drop(columns=['posteam', 'fourth_down_converted', 'fourth_down_failed', 'field_goal_attempt', 'punt_attempt', 'game_date', 'down'])\n",
    "    return df, y\n",
    "\n",
    "def ready_data_attempt(df):\n",
    "    df = df.dropna()\n",
    "    y = get_classifier_attempt(df)\n",
    "    df = df.drop(columns=['posteam', 'fourth_down_converted', 'fourth_down_failed', 'field_goal_attempt', 'punt_attempt', 'game_date', 'down'])\n",
    "    return df, y"
   ]
  },
  {
   "attachments": {},
   "cell_type": "markdown",
   "metadata": {},
   "source": [
    "# Tree"
   ]
  },
  {
   "attachments": {},
   "cell_type": "markdown",
   "metadata": {},
   "source": [
    "## Convert 4th down"
   ]
  },
  {
   "attachments": {},
   "cell_type": "markdown",
   "metadata": {},
   "source": [
    "### Default params"
   ]
  },
  {
   "cell_type": "code",
   "execution_count": 10,
   "metadata": {},
   "outputs": [
    {
     "name": "stdout",
     "output_type": "stream",
     "text": [
      "Test Accuracy: 0.8567764001710133\n",
      "Train Accuracy: 1.0\n",
      "              precision    recall  f1-score   support\n",
      "\n",
      "           0       0.24      0.07      0.11        85\n",
      "   CONVERTED       0.47      0.38      0.42       160\n",
      "      FAILED       0.47      0.40      0.43       154\n",
      "  FIELD_GOAL       0.88      0.94      0.91       542\n",
      "        PUNT       0.92      0.98      0.95      1398\n",
      "\n",
      "    accuracy                           0.86      2339\n",
      "   macro avg       0.60      0.55      0.56      2339\n",
      "weighted avg       0.83      0.86      0.84      2339\n",
      "\n"
     ]
    }
   ],
   "source": [
    "x, y = ready_data_convert(pd.concat([df_2016, df_2017, df_2018]))\n",
    "X_train, X_test, y_train, y_test = train_test_split(x, y, test_size=0.2, random_state=10)\n",
    "\n",
    "clf = RandomForestClassifier(random_state=0)\n",
    "\n",
    "clf.fit(X_train, y_train)\n",
    "\n",
    "dump(clf, '../models/random_forest/convert.joblib')\n",
    "\n",
    "print(f\"Test Accuracy: {clf.score(X_test, y_test)}\")\n",
    "print(f\"Train Accuracy: {clf.score(X_train, y_train)}\")\n",
    "\n",
    "report = classification_report(y_test, clf.predict(X_test), zero_division=0)\n",
    "print(report)"
   ]
  },
  {
   "attachments": {},
   "cell_type": "markdown",
   "metadata": {},
   "source": [
    "### Cross Validation"
   ]
  },
  {
   "cell_type": "code",
   "execution_count": 11,
   "metadata": {},
   "outputs": [
    {
     "name": "stdout",
     "output_type": "stream",
     "text": [
      "{'n_estimators': 123, 'min_samples_split': 8, 'max_features': 1, 'max_depth': 36}\n",
      "Test Accuracy: 0.8623343309106456\n",
      "Train Accuracy: 0.9214239897370109\n",
      "              precision    recall  f1-score   support\n",
      "\n",
      "           0       0.00      0.00      0.00        85\n",
      "   CONVERTED       0.51      0.40      0.45       160\n",
      "      FAILED       0.49      0.38      0.43       154\n",
      "  FIELD_GOAL       0.88      0.95      0.91       542\n",
      "        PUNT       0.92      0.99      0.95      1398\n",
      "\n",
      "    accuracy                           0.86      2339\n",
      "   macro avg       0.56      0.54      0.55      2339\n",
      "weighted avg       0.82      0.86      0.84      2339\n",
      "\n"
     ]
    }
   ],
   "source": [
    "x, y = ready_data_convert(pd.concat([df_2016, df_2017, df_2018]))\n",
    "X_train, X_test, y_train, y_test = train_test_split(x, y, test_size=0.2, random_state=10)\n",
    "\n",
    "parameters = {\n",
    "    'max_features': range(1, math.floor(math.sqrt(len(X_train.iloc[0])))), \n",
    "    'max_depth': range(1, 100),\n",
    "    'n_estimators': range(10, 200),\n",
    "    'min_samples_split': range(2, 20)\n",
    "}\n",
    "clf = RandomizedSearchCV(RandomForestClassifier(random_state=0), parameters, random_state=0, n_iter=200)\n",
    "\n",
    "clf.fit(X_train, y_train)\n",
    "\n",
    "dump(clf.best_estimator_, '../models/random_forest/convert_cv.joblib')\n",
    "\n",
    "print(clf.best_params_)\n",
    "print(f\"Test Accuracy: {clf.score(X_test, y_test)}\")\n",
    "print(f\"Train Accuracy: {clf.score(X_train, y_train)}\")\n",
    "\n",
    "report = classification_report(y_test, clf.predict(X_test), zero_division=0)\n",
    "print(report)"
   ]
  },
  {
   "attachments": {},
   "cell_type": "markdown",
   "metadata": {},
   "source": [
    "## Attempt 4th down"
   ]
  },
  {
   "attachments": {},
   "cell_type": "markdown",
   "metadata": {},
   "source": [
    "### Default Params"
   ]
  },
  {
   "cell_type": "code",
   "execution_count": 12,
   "metadata": {},
   "outputs": [
    {
     "name": "stdout",
     "output_type": "stream",
     "text": [
      "Test Accuracy: 0.8956819153484396\n",
      "Train Accuracy: 1.0\n",
      "              precision    recall  f1-score   support\n",
      "\n",
      "           0       0.28      0.06      0.10        85\n",
      "   ATTEMPTED       0.76      0.71      0.74       314\n",
      "  FIELD_GOAL       0.90      0.93      0.91       542\n",
      "        PUNT       0.93      0.98      0.95      1398\n",
      "\n",
      "    accuracy                           0.90      2339\n",
      "   macro avg       0.72      0.67      0.67      2339\n",
      "weighted avg       0.88      0.90      0.88      2339\n",
      "\n"
     ]
    }
   ],
   "source": [
    "x, y = ready_data_attempt(pd.concat([df_2016, df_2017, df_2018]))\n",
    "X_train, X_test, y_train, y_test = train_test_split(x, y, test_size=0.2, random_state=10)\n",
    "\n",
    "clf = RandomForestClassifier(random_state=0)\n",
    "clf.fit(X_train, y_train)\n",
    "\n",
    "dump(clf, '../models/random_forest/attempt.joblib')\n",
    "\n",
    "print(f\"Test Accuracy: {clf.score(X_test, y_test)}\")\n",
    "print(f\"Train Accuracy: {clf.score(X_train, y_train)}\")\n",
    "\n",
    "report = classification_report(y_test, clf.predict(X_test), zero_division=0)\n",
    "print(report)"
   ]
  },
  {
   "attachments": {},
   "cell_type": "markdown",
   "metadata": {},
   "source": [
    "### Cross Validation"
   ]
  },
  {
   "cell_type": "code",
   "execution_count": 13,
   "metadata": {},
   "outputs": [
    {
     "name": "stdout",
     "output_type": "stream",
     "text": [
      "{'n_estimators': 80, 'min_samples_split': 9, 'max_features': 1, 'max_depth': 49}\n",
      "Test Accuracy: 0.8961094484822574\n",
      "Train Accuracy: 0.9222792388283088\n",
      "              precision    recall  f1-score   support\n",
      "\n",
      "           0       0.00      0.00      0.00        85\n",
      "   ATTEMPTED       0.77      0.72      0.75       314\n",
      "  FIELD_GOAL       0.89      0.92      0.91       542\n",
      "        PUNT       0.92      0.98      0.95      1398\n",
      "\n",
      "    accuracy                           0.90      2339\n",
      "   macro avg       0.65      0.66      0.65      2339\n",
      "weighted avg       0.86      0.90      0.88      2339\n",
      "\n"
     ]
    }
   ],
   "source": [
    "x, y = ready_data_attempt(pd.concat([df_2016, df_2017, df_2018]))\n",
    "X_train, X_test, y_train, y_test = train_test_split(x, y, test_size=0.2, random_state=10)\n",
    "\n",
    "parameters = {\n",
    "    'max_features': range(1, math.floor(math.sqrt(len(X_train.iloc[0])))), \n",
    "    'max_depth': range(1, 100),\n",
    "    'n_estimators': range(10, 200),\n",
    "    'min_samples_split': range(2, 20)\n",
    "}\n",
    "clf = RandomizedSearchCV(RandomForestClassifier(random_state=0), parameters, random_state=0, n_iter=200)\n",
    "\n",
    "clf.fit(X_train, y_train)\n",
    "\n",
    "dump(clf.best_estimator_, '../models/random_forest/attempt_cv.joblib')\n",
    "\n",
    "print(clf.best_params_)\n",
    "print(f\"Test Accuracy: {clf.score(X_test, y_test)}\")\n",
    "print(f\"Train Accuracy: {clf.score(X_train, y_train)}\")\n",
    "\n",
    "report = classification_report(y_test, clf.predict(X_test), zero_division=0)\n",
    "print(report)"
   ]
  }
 ],
 "metadata": {
  "kernelspec": {
   "display_name": "Python 3",
   "language": "python",
   "name": "python3"
  },
  "language_info": {
   "codemirror_mode": {
    "name": "ipython",
    "version": 3
   },
   "file_extension": ".py",
   "mimetype": "text/x-python",
   "name": "python",
   "nbconvert_exporter": "python",
   "pygments_lexer": "ipython3",
   "version": "3.9.13"
  },
  "orig_nbformat": 4
 },
 "nbformat": 4,
 "nbformat_minor": 2
}
