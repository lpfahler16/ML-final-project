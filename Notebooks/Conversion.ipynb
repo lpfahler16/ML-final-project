{
 "cells": [
  {
   "cell_type": "code",
   "execution_count": 195,
   "metadata": {},
   "outputs": [],
   "source": [
    "import os\n",
    "scripts_path = os.path.abspath('../scripts')\n",
    "import importlib.util\n",
    "spec = importlib.util.spec_from_file_location(\"helpers\", os.path.join(scripts_path, \"helpers.py\"))\n",
    "helpers = importlib.util.module_from_spec(spec)\n",
    "spec.loader.exec_module(helpers)\n",
    "\n",
    "spec = importlib.util.spec_from_file_location(\"nn_models\", os.path.join(scripts_path, \"nn_models.py\"))\n",
    "models = importlib.util.module_from_spec(spec)\n",
    "spec.loader.exec_module(models)\n",
    "\n",
    "import torch\n",
    "import pandas as pd\n",
    "from tqdm import trange\n",
    "\n",
    "from sklearn.model_selection import train_test_split\n",
    "from joblib import dump, load"
   ]
  },
  {
   "attachments": {},
   "cell_type": "markdown",
   "metadata": {},
   "source": [
    "## Data Setup"
   ]
  },
  {
   "cell_type": "code",
   "execution_count": 196,
   "metadata": {},
   "outputs": [],
   "source": [
    "X_train, X_test, y_train, y_test = helpers.go_for_it_data_split(nn=True)\n",
    "X_train, X_verify, y_train, y_verify = train_test_split(X_train, y_train, test_size=0.2, random_state=10)\n",
    "\n",
    "batch_size = 64\n",
    "train_dataset = torch.utils.data.TensorDataset(torch.tensor(X_train), torch.tensor(y_train))\n",
    "train_loader = torch.utils.data.DataLoader(train_dataset, batch_size=batch_size, shuffle=False, num_workers=True)\n",
    "\n",
    "X_verify = torch.tensor(X_verify)\n",
    "y_verify = torch.tensor(y_verify)\n",
    "\n",
    "n_train, p = X_train.shape\n",
    "n_verify, p = X_verify.shape"
   ]
  },
  {
   "attachments": {},
   "cell_type": "markdown",
   "metadata": {},
   "source": [
    "#### Testing / Training"
   ]
  },
  {
   "cell_type": "code",
   "execution_count": 197,
   "metadata": {},
   "outputs": [],
   "source": [
    "def train_one_epoch(train_loader, model, optimizer, log_interval, epoch):\n",
    "    model.train()\n",
    "    loss_function = torch.nn.CrossEntropyLoss()\n",
    "    train_loss = 0\n",
    "    num_correct = 0\n",
    "    \n",
    "    for i, (feature, label) in enumerate(train_loader):\n",
    "        feature = feature.float()\n",
    "        label = label.long()\n",
    "\n",
    "        optimizer.zero_grad()\n",
    "        ans = model(feature)\n",
    "        loss = loss_function(ans, label)\n",
    "        loss.backward()\n",
    "        optimizer.step()\n",
    "\n",
    "        pred = ans.argmax(dim=1, keepdim=True) # Get index of largest log-probability and use that as prediction\n",
    "        num_correct += (pred == label.view_as(pred)).sum().item()\n",
    "        train_loss += loss.item()\n",
    "    \n",
    "    return train_loss, num_correct\n",
    "\n",
    "def test_one_epoch(X_test, Y_test, model):\n",
    "    model.eval()\n",
    "    loss_function = torch.nn.CrossEntropyLoss()\n",
    "    test_loss = 0\n",
    "    num_correct = 0\n",
    "    \n",
    "    with torch.no_grad():\n",
    "        feature = X_test.float()\n",
    "        label = Y_test.long()\n",
    "        output = model(feature)\n",
    "        \n",
    "        pred = output.argmax(dim=1, keepdim=True) # Get index of largest log-probability and use that as prediction\n",
    "        num_correct += (pred == label.view_as(pred)).sum().item()\n",
    "        test_loss += torch.nn.functional.nll_loss(output, label.long(), reduction='sum').item()\n",
    "\n",
    "    return test_loss, num_correct"
   ]
  },
  {
   "attachments": {},
   "cell_type": "markdown",
   "metadata": {},
   "source": [
    "#### Running"
   ]
  },
  {
   "cell_type": "code",
   "execution_count": 198,
   "metadata": {},
   "outputs": [
    {
     "name": "stderr",
     "output_type": "stream",
     "text": [
      "Epochs:   0%|          | 0/350 [00:00<?, ?it/s]/Users/loganpfahler/Spring 2023/Machine Learning/ML-final-project/scripts/nn_models.py:88: UserWarning: Implicit dimension choice for log_softmax has been deprecated. Change the call to include dim=X as an argument.\n",
      "  y_output = self.log_softmax(x)\n",
      "Epochs:   0%|          | 1/350 [00:01<10:42,  1.84s/it]"
     ]
    },
    {
     "name": "stdout",
     "output_type": "stream",
     "text": [
      "cross entropy loss 0.7004968024963556 0.6955937105066636\n",
      "accuracy 0.5090106656859139 0.5323529411764706\n"
     ]
    },
    {
     "name": "stderr",
     "output_type": "stream",
     "text": [
      "Epochs:   6%|▌         | 21/350 [00:36<09:32,  1.74s/it]"
     ]
    },
    {
     "name": "stdout",
     "output_type": "stream",
     "text": [
      "cross entropy loss 0.6909793740095094 0.6892023423138787\n",
      "accuracy 0.5090106656859139 0.5323529411764706\n"
     ]
    },
    {
     "name": "stderr",
     "output_type": "stream",
     "text": [
      "Epochs:  12%|█▏        | 41/350 [01:11<09:11,  1.78s/it]"
     ]
    },
    {
     "name": "stdout",
     "output_type": "stream",
     "text": [
      "cross entropy loss 0.6861729621887207 0.6860511330997243\n",
      "accuracy 0.5185730047811695 0.5470588235294118\n"
     ]
    },
    {
     "name": "stderr",
     "output_type": "stream",
     "text": [
      "Epochs:  17%|█▋        | 61/350 [01:47<08:30,  1.77s/it]"
     ]
    },
    {
     "name": "stdout",
     "output_type": "stream",
     "text": [
      "cross entropy loss 0.682294815085655 0.6831802816951976\n",
      "accuracy 0.6134608311879367 0.6073529411764705\n"
     ]
    },
    {
     "name": "stderr",
     "output_type": "stream",
     "text": [
      "Epochs:  23%|██▎       | 81/350 [02:22<07:36,  1.70s/it]"
     ]
    },
    {
     "name": "stdout",
     "output_type": "stream",
     "text": [
      "cross entropy loss 0.6784739133923553 0.6800104477826286\n",
      "accuracy 0.6244942993747702 0.6029411764705882\n"
     ]
    },
    {
     "name": "stderr",
     "output_type": "stream",
     "text": [
      "Epochs:  29%|██▉       | 101/350 [02:57<07:05,  1.71s/it]"
     ]
    },
    {
     "name": "stdout",
     "output_type": "stream",
     "text": [
      "cross entropy loss 0.6745535509530888 0.6765612433938419\n",
      "accuracy 0.6230231702831923 0.6014705882352941\n"
     ]
    },
    {
     "name": "stderr",
     "output_type": "stream",
     "text": [
      "Epochs:  35%|███▍      | 121/350 [03:28<05:49,  1.53s/it]"
     ]
    },
    {
     "name": "stdout",
     "output_type": "stream",
     "text": [
      "cross entropy loss 0.6705775066863658 0.6729701322667739\n",
      "accuracy 0.6255976461934535 0.5926470588235294\n"
     ]
    },
    {
     "name": "stderr",
     "output_type": "stream",
     "text": [
      "Epochs:  40%|████      | 141/350 [03:58<05:15,  1.51s/it]"
     ]
    },
    {
     "name": "stdout",
     "output_type": "stream",
     "text": [
      "cross entropy loss 0.6667063319405844 0.6694523979635799\n",
      "accuracy 0.6244942993747702 0.5926470588235294\n"
     ]
    },
    {
     "name": "stderr",
     "output_type": "stream",
     "text": [
      "Epochs:  46%|████▌     | 161/350 [04:29<04:55,  1.56s/it]"
     ]
    },
    {
     "name": "stdout",
     "output_type": "stream",
     "text": [
      "cross entropy loss 0.6630763730337453 0.666198865105124\n",
      "accuracy 0.6230231702831923 0.5926470588235294\n"
     ]
    },
    {
     "name": "stderr",
     "output_type": "stream",
     "text": [
      "Epochs:  52%|█████▏    | 181/350 [05:00<04:45,  1.69s/it]"
     ]
    },
    {
     "name": "stdout",
     "output_type": "stream",
     "text": [
      "cross entropy loss 0.6597258448600769 0.6632099376005285\n",
      "accuracy 0.6230231702831923 0.5955882352941176\n"
     ]
    },
    {
     "name": "stderr",
     "output_type": "stream",
     "text": [
      "Epochs:  57%|█████▋    | 201/350 [05:31<03:47,  1.52s/it]"
     ]
    },
    {
     "name": "stdout",
     "output_type": "stream",
     "text": [
      "cross entropy loss 0.6567090735879055 0.6605548185460708\n",
      "accuracy 0.6248620816476645 0.5970588235294118\n"
     ]
    },
    {
     "name": "stderr",
     "output_type": "stream",
     "text": [
      "Epochs:  63%|██████▎   | 221/350 [06:02<03:31,  1.64s/it]"
     ]
    },
    {
     "name": "stdout",
     "output_type": "stream",
     "text": [
      "cross entropy loss 0.6540881423063056 0.658293555764591\n",
      "accuracy 0.6267009930121368 0.6014705882352941\n"
     ]
    },
    {
     "name": "stderr",
     "output_type": "stream",
     "text": [
      "Epochs:  69%|██████▉   | 241/350 [06:37<03:07,  1.72s/it]"
     ]
    },
    {
     "name": "stdout",
     "output_type": "stream",
     "text": [
      "cross entropy loss 0.6518959818884383 0.6564336440142463\n",
      "accuracy 0.6244942993747702 0.6058823529411764\n"
     ]
    },
    {
     "name": "stderr",
     "output_type": "stream",
     "text": [
      "Epochs:  75%|███████▍  | 261/350 [07:12<02:36,  1.75s/it]"
     ]
    },
    {
     "name": "stdout",
     "output_type": "stream",
     "text": [
      "cross entropy loss 0.6501056787579559 0.6549633699304918\n",
      "accuracy 0.6241265171018757 0.6073529411764705\n"
     ]
    },
    {
     "name": "stderr",
     "output_type": "stream",
     "text": [
      "Epochs:  80%|████████  | 281/350 [07:48<01:59,  1.73s/it]"
     ]
    },
    {
     "name": "stdout",
     "output_type": "stream",
     "text": [
      "cross entropy loss 0.6486737686534261 0.6538411757525275\n",
      "accuracy 0.6241265171018757 0.6073529411764705\n"
     ]
    },
    {
     "name": "stderr",
     "output_type": "stream",
     "text": [
      "Epochs:  86%|████████▌ | 301/350 [08:21<01:20,  1.64s/it]"
     ]
    },
    {
     "name": "stdout",
     "output_type": "stream",
     "text": [
      "cross entropy loss 0.6475177365680074 0.653004410687615\n",
      "accuracy 0.625229863920559 0.6073529411764705\n"
     ]
    },
    {
     "name": "stderr",
     "output_type": "stream",
     "text": [
      "Epochs:  92%|█████████▏| 321/350 [08:53<00:47,  1.63s/it]"
     ]
    },
    {
     "name": "stdout",
     "output_type": "stream",
     "text": [
      "cross entropy loss 0.6465897740319718 0.6523921742158778\n",
      "accuracy 0.625965428466348 0.6088235294117647\n"
     ]
    },
    {
     "name": "stderr",
     "output_type": "stream",
     "text": [
      "Epochs:  97%|█████████▋| 341/350 [09:26<00:14,  1.62s/it]"
     ]
    },
    {
     "name": "stdout",
     "output_type": "stream",
     "text": [
      "cross entropy loss 0.64583635884662 0.651947021484375\n",
      "accuracy 0.6263332107392424 0.6073529411764705\n"
     ]
    },
    {
     "name": "stderr",
     "output_type": "stream",
     "text": [
      "Epochs: 100%|██████████| 350/350 [09:41<00:00,  1.66s/it]\n"
     ]
    }
   ],
   "source": [
    "# Hyperparameters\n",
    "lr = 0.001\n",
    "wd = 0.01\n",
    "max_epochs = 350\n",
    "\n",
    "# Print results\n",
    "log_interval = 20\n",
    "\n",
    "model = models.ConversionNNClassifier()\n",
    "\n",
    "# Instantiate optimizer (model was created in previous cell)\n",
    "optimizer = torch.optim.SGD(model.parameters(), lr=lr, weight_decay=wd)\n",
    "\n",
    "train_losses = []\n",
    "train_correct_list = []\n",
    "test_losses = []\n",
    "test_correct_list = []\n",
    "\n",
    "for epoch in trange(max_epochs, leave=True, desc='Epochs'):\n",
    "    train_loss, train_correct = train_one_epoch(train_loader, model, optimizer, log_interval, epoch)\n",
    "    \n",
    "    if epoch % log_interval == 0:\n",
    "        test_loss, test_correct = test_one_epoch(X_verify, y_verify, model)\n",
    "\n",
    "        # Record results\n",
    "        train_losses.append(train_loss)\n",
    "        train_correct_list.append(train_correct)\n",
    "        test_losses.append(test_loss)\n",
    "        test_correct_list.append(test_correct)\n",
    "        \n",
    "        print('cross entropy loss', train_loss / len(train_loader), test_loss / float(n_verify))\n",
    "        print('accuracy', train_correct / float(n_train), test_correct / float(n_verify))\n",
    "\n",
    "torch.save(model.state_dict(), '../models/nn/conversion.joblib')"
   ]
  },
  {
   "attachments": {},
   "cell_type": "markdown",
   "metadata": {},
   "source": [
    "#### Results"
   ]
  },
  {
   "cell_type": "code",
   "execution_count": 199,
   "metadata": {},
   "outputs": [
    {
     "data": {
      "image/png": "[encoded data removed]",
      "text/plain": [
       "<Figure size 2000x500 with 4 Axes>"
      ]
     },
     "metadata": {},
     "output_type": "display_data"
    }
   ],
   "source": [
    "from matplotlib import pyplot\n",
    "\n",
    "fig, axes = pyplot.subplots(ncols=4, figsize=(20, 5), sharey=False)\n",
    "\n",
    "axes[0].set_xlabel('Number of epochs')\n",
    "axes[0].set_ylabel('NLL')\n",
    "axes[0].plot(range(0,len(train_losses)), train_losses)\n",
    "axes[0].set_title('Training loss curve')\n",
    "\n",
    "axes[1].set_xlabel('Number of epochs')\n",
    "axes[1].set_ylabel('NLL')\n",
    "axes[1].plot(range(0,len(train_losses)), test_losses)\n",
    "axes[1].set_title('Test loss curve')\n",
    "\n",
    "axes[2].set_xlabel('Number of epochs')\n",
    "axes[2].set_ylabel('Accuracy')\n",
    "axes[2].plot(range(0,len(train_losses)), list(map(lambda x : x/float(n_train), train_correct_list)))\n",
    "axes[2].set_title('Training accuracy curve')\n",
    "\n",
    "axes[3].set_xlabel('Number of epochs')\n",
    "axes[3].set_ylabel('Accuracy')\n",
    "axes[3].plot(range(0,len(train_losses)), list(map(lambda x : x/float(n_verify), test_correct_list)))\n",
    "axes[3].set_title('Test accuracy curve')\n",
    "pyplot.show()"
   ]
  },
  {
   "cell_type": "code",
   "execution_count": 200,
   "metadata": {},
   "outputs": [
    {
     "name": "stderr",
     "output_type": "stream",
     "text": [
      "/usr/local/lib/python3.9/site-packages/sklearn/base.py:439: UserWarning: X does not have valid feature names, but StandardScaler was fitted with feature names\n",
      "  warnings.warn(\n",
      "/Users/loganpfahler/Spring 2023/Machine Learning/ML-final-project/scripts/nn_models.py:88: UserWarning: Implicit dimension choice for log_softmax has been deprecated. Change the call to include dim=X as an argument.\n",
      "  y_output = self.log_softmax(x)\n"
     ]
    },
    {
     "data": {
      "text/plain": [
       "(0.6511252522468567,\n",
       " '4th down and 1 on their own 1 yard line, 300 seconds remaining, up by 36')"
      ]
     },
     "execution_count": 200,
     "metadata": {},
     "output_type": "execute_result"
    }
   ],
   "source": [
    "def predict(distance, yard_line, seconds_remaining, score_differential):\n",
    "    scaler = load('../models/scaler.joblib')\n",
    "    data = scaler.transform([[yard_line, seconds_remaining, distance, score_differential]])[0]\n",
    "    data_desc = data_as_string(data)\n",
    "    return predict_from_model(data), data_desc\n",
    "    \n",
    "\n",
    "def predict_from_model(data):\n",
    "    input_var = torch.tensor(data).float()\n",
    "    ans = model(input_var)\n",
    "    probs = torch.nn.functional.softmax(ans, dim=0)\n",
    "    return float(probs[0])\n",
    "\n",
    "def data_as_string(data):\n",
    "    scaler = load('../models/scaler.joblib')\n",
    "    scaled_data = scaler.inverse_transform([data])[0]\n",
    "    score_dif = int(scaled_data[3])\n",
    "    seconds_remaining = int(scaled_data[1])\n",
    "    yards_to_go = int(scaled_data[2])\n",
    "    yard_line = int(scaled_data[0])\n",
    "    ans = f\"4th down and {yards_to_go} on \"\n",
    "    if (yard_line < 50):\n",
    "        ans += f\"the {yard_line}\"\n",
    "    else:\n",
    "        ans += f\"their own {100 - yard_line}\"\n",
    "    ans += f\" yard line, {seconds_remaining} seconds remaining, \"\n",
    "    if (score_dif < 0):\n",
    "        ans += f\"down by {-1 * score_dif}\"\n",
    "    elif (score_dif > 0):\n",
    "        ans += f\"up by {score_dif}\"\n",
    "    else:\n",
    "        ans += \"tie game.\"\n",
    "    return ans\n",
    "\n",
    "predict(1, 99, 300, 36)"
   ]
  }
 ],
 "metadata": {
  "kernelspec": {
   "display_name": "Python 3",
   "language": "python",
   "name": "python3"
  },
  "language_info": {
   "codemirror_mode": {
    "name": "ipython",
    "version": 3
   },
   "file_extension": ".py",
   "mimetype": "text/x-python",
   "name": "python",
   "nbconvert_exporter": "python",
   "pygments_lexer": "ipython3",
   "version": "3.9.13"
  },
  "orig_nbformat": 4
 },
 "nbformat": 4,
 "nbformat_minor": 2
}
