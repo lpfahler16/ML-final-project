{
 "cells": [
  {
   "cell_type": "code",
   "execution_count": 176,
   "metadata": {},
   "outputs": [],
   "source": [
    "import os\n",
    "scripts_path = os.path.abspath('../scripts')\n",
    "import importlib.util\n",
    "spec = importlib.util.spec_from_file_location(\"helpers\", os.path.join(scripts_path, \"helpers.py\"))\n",
    "helpers = importlib.util.module_from_spec(spec)\n",
    "spec.loader.exec_module(helpers)\n",
    "\n",
    "import torch\n",
    "import pandas as pd\n",
    "from tqdm import trange\n",
    "\n",
    "from sklearn.model_selection import train_test_split\n",
    "from joblib import dump, load"
   ]
  },
  {
   "attachments": {},
   "cell_type": "markdown",
   "metadata": {},
   "source": [
    "## Data Setup"
   ]
  },
  {
   "cell_type": "code",
   "execution_count": 190,
   "metadata": {},
   "outputs": [],
   "source": [
    "X_train, X_test, y_train, y_test = helpers.go_for_it_data_split(nn=True)\n",
    "X_train, X_verify, y_train, y_verify = train_test_split(X_train, y_train, test_size=0.2, random_state=10)\n",
    "\n",
    "batch_size = 64\n",
    "train_dataset = torch.utils.data.TensorDataset(torch.tensor(X_train), torch.tensor(y_train))\n",
    "train_loader = torch.utils.data.DataLoader(train_dataset, batch_size=batch_size, shuffle=False, num_workers=True)\n",
    "\n",
    "X_verify = torch.tensor(X_verify)\n",
    "y_verify = torch.tensor(y_verify)\n",
    "\n",
    "n_train, p = X_train.shape\n",
    "n_verify, p = X_verify.shape"
   ]
  },
  {
   "attachments": {},
   "cell_type": "markdown",
   "metadata": {},
   "source": [
    "#### Class"
   ]
  },
  {
   "cell_type": "code",
   "execution_count": 178,
   "metadata": {},
   "outputs": [],
   "source": [
    "input_size = 4   # input size\n",
    "hidden_size = 50  # width of hidden layer\n",
    "output_size = 2   # number of output neurons\n",
    "\n",
    "class NNClassifier(torch.nn.Module):\n",
    "    \n",
    "    def __init__(self):\n",
    "        \n",
    "        super().__init__()\n",
    "        self.fc1 = torch.nn.Linear(input_size, hidden_size)\n",
    "        self.act = torch.nn.ReLU()\n",
    "        self.fc2 = torch.nn.Linear(hidden_size, hidden_size)\n",
    "        self.fc3 = torch.nn.Linear(hidden_size, hidden_size)\n",
    "        self.fc4 = torch.nn.Linear(hidden_size, output_size)\n",
    "        self.log_softmax = torch.nn.LogSoftmax()\n",
    "    \n",
    "    def forward(self, x):\n",
    "        x = self.fc1(x)\n",
    "        x = self.act(x)\n",
    "        x = self.fc2(x)\n",
    "        x = self.act(x)\n",
    "        x = self.fc3(x)\n",
    "        x = self.act(x)\n",
    "        x = self.fc4(x)\n",
    "        y_output = self.log_softmax(x)\n",
    "        return y_output"
   ]
  },
  {
   "attachments": {},
   "cell_type": "markdown",
   "metadata": {},
   "source": [
    "#### Testing / Training"
   ]
  },
  {
   "cell_type": "code",
   "execution_count": 179,
   "metadata": {},
   "outputs": [],
   "source": [
    "def train_one_epoch(train_loader, model, optimizer, log_interval, epoch):\n",
    "    model.train()\n",
    "    loss_function = torch.nn.CrossEntropyLoss()\n",
    "    train_loss = 0\n",
    "    num_correct = 0\n",
    "    \n",
    "    for i, (feature, label) in enumerate(train_loader):\n",
    "        feature = feature.float()\n",
    "        label = label.long()\n",
    "\n",
    "        optimizer.zero_grad()\n",
    "        ans = model(feature)\n",
    "        loss = loss_function(ans, label)\n",
    "        loss.backward()\n",
    "        optimizer.step()\n",
    "\n",
    "        pred = ans.argmax(dim=1, keepdim=True) # Get index of largest log-probability and use that as prediction\n",
    "        num_correct += (pred == label.view_as(pred)).sum().item()\n",
    "        train_loss += loss.item()\n",
    "    \n",
    "    return train_loss, num_correct\n",
    "\n",
    "def test_one_epoch(X_test, Y_test, model):\n",
    "    model.eval()\n",
    "    loss_function = torch.nn.CrossEntropyLoss()\n",
    "    test_loss = 0\n",
    "    num_correct = 0\n",
    "    \n",
    "    with torch.no_grad():\n",
    "        feature = X_test.float()\n",
    "        label = Y_test.long()\n",
    "        output = model(feature)\n",
    "        \n",
    "        pred = output.argmax(dim=1, keepdim=True) # Get index of largest log-probability and use that as prediction\n",
    "        num_correct += (pred == label.view_as(pred)).sum().item()\n",
    "        test_loss += torch.nn.functional.nll_loss(output, label.long(), reduction='sum').item()\n",
    "\n",
    "    return test_loss, num_correct"
   ]
  },
  {
   "attachments": {},
   "cell_type": "markdown",
   "metadata": {},
   "source": [
    "#### Running"
   ]
  },
  {
   "cell_type": "code",
   "execution_count": 180,
   "metadata": {},
   "outputs": [
    {
     "name": "stderr",
     "output_type": "stream",
     "text": [
      "Epochs:   0%|          | 0/350 [00:00<?, ?it/s]/var/folders/8r/q18lgzp95917cyrn8bqmq1c80000gn/T/ipykernel_37973/2536989008.py:25: UserWarning: Implicit dimension choice for log_softmax has been deprecated. Change the call to include dim=X as an argument.\n",
      "  y_output = self.log_softmax(x)\n",
      "Epochs:   0%|          | 1/350 [00:03<18:43,  3.22s/it]"
     ]
    },
    {
     "name": "stdout",
     "output_type": "stream",
     "text": [
      "cross entropy loss 0.6929065141566965 0.6913937288172105\n",
      "accuracy 0.5097462302317028 0.5397058823529411\n"
     ]
    },
    {
     "name": "stderr",
     "output_type": "stream",
     "text": [
      "Epochs:   6%|▌         | 21/350 [00:36<08:57,  1.63s/it]"
     ]
    },
    {
     "name": "stdout",
     "output_type": "stream",
     "text": [
      "cross entropy loss 0.6891961887825367 0.6879801133099724\n",
      "accuracy 0.5343876425156308 0.5573529411764706\n"
     ]
    },
    {
     "name": "stderr",
     "output_type": "stream",
     "text": [
      "Epochs:  12%|█▏        | 41/350 [01:10<08:45,  1.70s/it]"
     ]
    },
    {
     "name": "stdout",
     "output_type": "stream",
     "text": [
      "cross entropy loss 0.6858058849046397 0.6848691603716682\n",
      "accuracy 0.5505700625229863 0.5941176470588235\n"
     ]
    },
    {
     "name": "stderr",
     "output_type": "stream",
     "text": [
      "Epochs:  17%|█▋        | 61/350 [01:43<07:56,  1.65s/it]"
     ]
    },
    {
     "name": "stdout",
     "output_type": "stream",
     "text": [
      "cross entropy loss 0.6824713723604069 0.6818130941951976\n",
      "accuracy 0.5814637734461199 0.6014705882352941\n"
     ]
    },
    {
     "name": "stderr",
     "output_type": "stream",
     "text": [
      "Epochs:  23%|██▎       | 81/350 [02:16<07:06,  1.59s/it]"
     ]
    },
    {
     "name": "stdout",
     "output_type": "stream",
     "text": [
      "cross entropy loss 0.6791140825249428 0.6786849526798024\n",
      "accuracy 0.59139389481427 0.6205882352941177\n"
     ]
    },
    {
     "name": "stderr",
     "output_type": "stream",
     "text": [
      "Epochs:  29%|██▉       | 101/350 [02:49<06:31,  1.57s/it]"
     ]
    },
    {
     "name": "stdout",
     "output_type": "stream",
     "text": [
      "cross entropy loss 0.6756540287372678 0.6754648545209099\n",
      "accuracy 0.6005884516366311 0.6323529411764706\n"
     ]
    },
    {
     "name": "stderr",
     "output_type": "stream",
     "text": [
      "Epochs:  35%|███▍      | 121/350 [03:22<06:34,  1.72s/it]"
     ]
    },
    {
     "name": "stdout",
     "output_type": "stream",
     "text": [
      "cross entropy loss 0.6720897333566532 0.6721711551441866\n",
      "accuracy 0.6075763148216256 0.6308823529411764\n"
     ]
    },
    {
     "name": "stderr",
     "output_type": "stream",
     "text": [
      "Epochs:  40%|████      | 141/350 [03:57<06:02,  1.73s/it]"
     ]
    },
    {
     "name": "stdout",
     "output_type": "stream",
     "text": [
      "cross entropy loss 0.6685421023257944 0.668914929558249\n",
      "accuracy 0.6130930489150423 0.6220588235294118\n"
     ]
    },
    {
     "name": "stderr",
     "output_type": "stream",
     "text": [
      "Epochs:  46%|████▌     | 161/350 [04:28<04:41,  1.49s/it]"
     ]
    },
    {
     "name": "stdout",
     "output_type": "stream",
     "text": [
      "cross entropy loss 0.6651359824247138 0.6657686570111443\n",
      "accuracy 0.6149319602795146 0.6191176470588236\n"
     ]
    },
    {
     "name": "stderr",
     "output_type": "stream",
     "text": [
      "Epochs:  52%|█████▏    | 181/350 [05:00<04:38,  1.65s/it]"
     ]
    },
    {
     "name": "stdout",
     "output_type": "stream",
     "text": [
      "cross entropy loss 0.6619051500808361 0.6628067016601562\n",
      "accuracy 0.6141963957337256 0.6191176470588236\n"
     ]
    },
    {
     "name": "stderr",
     "output_type": "stream",
     "text": [
      "Epochs:  57%|█████▋    | 201/350 [05:32<03:56,  1.59s/it]"
     ]
    },
    {
     "name": "stdout",
     "output_type": "stream",
     "text": [
      "cross entropy loss 0.6589083588400553 0.6601393306956572\n",
      "accuracy 0.6175064361897756 0.6176470588235294\n"
     ]
    },
    {
     "name": "stderr",
     "output_type": "stream",
     "text": [
      "Epochs:  63%|██████▎   | 221/350 [06:04<03:42,  1.73s/it]"
     ]
    },
    {
     "name": "stdout",
     "output_type": "stream",
     "text": [
      "cross entropy loss 0.6562371364859647 0.6578222835765165\n",
      "accuracy 0.6208164766458256 0.6161764705882353\n"
     ]
    },
    {
     "name": "stderr",
     "output_type": "stream",
     "text": [
      "Epochs:  69%|██████▉   | 241/350 [06:37<02:53,  1.60s/it]"
     ]
    },
    {
     "name": "stdout",
     "output_type": "stream",
     "text": [
      "cross entropy loss 0.6539171254912088 0.6558942009420956\n",
      "accuracy 0.6244942993747702 0.6147058823529412\n"
     ]
    },
    {
     "name": "stderr",
     "output_type": "stream",
     "text": [
      "Epochs:  75%|███████▍  | 261/350 [07:08<02:09,  1.46s/it]"
     ]
    },
    {
     "name": "stdout",
     "output_type": "stream",
     "text": [
      "cross entropy loss 0.6519494555717291 0.6543405420639936\n",
      "accuracy 0.6233909525560868 0.6132352941176471\n"
     ]
    },
    {
     "name": "stderr",
     "output_type": "stream",
     "text": [
      "Epochs:  80%|████████  | 281/350 [07:37<01:39,  1.44s/it]"
     ]
    },
    {
     "name": "stdout",
     "output_type": "stream",
     "text": [
      "cross entropy loss 0.6503197245819624 0.6531761618221508\n",
      "accuracy 0.6211842589187201 0.6102941176470589\n"
     ]
    },
    {
     "name": "stderr",
     "output_type": "stream",
     "text": [
      "Epochs:  86%|████████▌ | 301/350 [08:06<01:11,  1.45s/it]"
     ]
    },
    {
     "name": "stdout",
     "output_type": "stream",
     "text": [
      "cross entropy loss 0.6490003688390865 0.6523103153004366\n",
      "accuracy 0.6226553880102978 0.611764705882353\n"
     ]
    },
    {
     "name": "stderr",
     "output_type": "stream",
     "text": [
      "Epochs:  92%|█████████▏| 321/350 [08:34<00:41,  1.44s/it]"
     ]
    },
    {
     "name": "stdout",
     "output_type": "stream",
     "text": [
      "cross entropy loss 0.6479259022446566 0.6516614577349494\n",
      "accuracy 0.621919823464509 0.6044117647058823\n"
     ]
    },
    {
     "name": "stderr",
     "output_type": "stream",
     "text": [
      "Epochs:  97%|█████████▋| 341/350 [09:03<00:12,  1.44s/it]"
     ]
    },
    {
     "name": "stdout",
     "output_type": "stream",
     "text": [
      "cross entropy loss 0.6470456622367682 0.6511847552131204\n",
      "accuracy 0.6237587348289813 0.6088235294117647\n"
     ]
    },
    {
     "name": "stderr",
     "output_type": "stream",
     "text": [
      "Epochs: 100%|██████████| 350/350 [09:16<00:00,  1.59s/it]\n"
     ]
    },
    {
     "data": {
      "text/plain": [
       "['../models/nn/network.joblib']"
      ]
     },
     "execution_count": 180,
     "metadata": {},
     "output_type": "execute_result"
    }
   ],
   "source": [
    "# Hyperparameters\n",
    "lr = 0.001\n",
    "wd = 0.01\n",
    "max_epochs = 350\n",
    "\n",
    "# Print results\n",
    "log_interval = 20\n",
    "\n",
    "model = NNClassifier()\n",
    "\n",
    "# Instantiate optimizer (model was created in previous cell)\n",
    "optimizer = torch.optim.SGD(model.parameters(), lr=lr, weight_decay=wd)\n",
    "\n",
    "train_losses = []\n",
    "train_correct_list = []\n",
    "test_losses = []\n",
    "test_correct_list = []\n",
    "\n",
    "for epoch in trange(max_epochs, leave=True, desc='Epochs'):\n",
    "    train_loss, train_correct = train_one_epoch(train_loader, model, optimizer, log_interval, epoch)\n",
    "    \n",
    "    if epoch % log_interval == 0:\n",
    "        test_loss, test_correct = test_one_epoch(X_verify, y_verify, model)\n",
    "\n",
    "        # Record results\n",
    "        train_losses.append(train_loss)\n",
    "        train_correct_list.append(train_correct)\n",
    "        test_losses.append(test_loss)\n",
    "        test_correct_list.append(test_correct)\n",
    "        \n",
    "        print('cross entropy loss', train_loss / len(train_loader), test_loss / float(n_verify))\n",
    "        print('accuracy', train_correct / float(n_train), test_correct / float(n_verify))\n",
    "\n",
    "dump(model, '../models/nn/network.joblib')"
   ]
  },
  {
   "attachments": {},
   "cell_type": "markdown",
   "metadata": {},
   "source": [
    "#### Results"
   ]
  },
  {
   "cell_type": "code",
   "execution_count": 181,
   "metadata": {},
   "outputs": [
    {
     "data": {
      "image/png": "[encoded data removed]",
      "text/plain": [
       "<Figure size 2000x500 with 4 Axes>"
      ]
     },
     "metadata": {},
     "output_type": "display_data"
    }
   ],
   "source": [
    "from matplotlib import pyplot\n",
    "\n",
    "fig, axes = pyplot.subplots(ncols=4, figsize=(20, 5), sharey=False)\n",
    "\n",
    "axes[0].set_xlabel('Number of epochs')\n",
    "axes[0].set_ylabel('NLL')\n",
    "axes[0].plot(range(0,len(train_losses)), train_losses)\n",
    "axes[0].set_title('Training loss curve')\n",
    "\n",
    "axes[1].set_xlabel('Number of epochs')\n",
    "axes[1].set_ylabel('NLL')\n",
    "axes[1].plot(range(0,len(train_losses)), test_losses)\n",
    "axes[1].set_title('Test loss curve')\n",
    "\n",
    "axes[2].set_xlabel('Number of epochs')\n",
    "axes[2].set_ylabel('Accuracy')\n",
    "axes[2].plot(range(0,len(train_losses)), list(map(lambda x : x/float(n_train), train_correct_list)))\n",
    "axes[2].set_title('Training accuracy curve')\n",
    "\n",
    "axes[3].set_xlabel('Number of epochs')\n",
    "axes[3].set_ylabel('Accuracy')\n",
    "axes[3].plot(range(0,len(train_losses)), list(map(lambda x : x/float(n_verify), test_correct_list)))\n",
    "axes[3].set_title('Test accuracy curve')\n",
    "pyplot.show()"
   ]
  },
  {
   "cell_type": "code",
   "execution_count": 182,
   "metadata": {},
   "outputs": [
    {
     "name": "stderr",
     "output_type": "stream",
     "text": [
      "/usr/local/lib/python3.9/site-packages/sklearn/base.py:439: UserWarning: X does not have valid feature names, but StandardScaler was fitted with feature names\n",
      "  warnings.warn(\n",
      "/var/folders/8r/q18lgzp95917cyrn8bqmq1c80000gn/T/ipykernel_37973/2536989008.py:25: UserWarning: Implicit dimension choice for log_softmax has been deprecated. Change the call to include dim=X as an argument.\n",
      "  y_output = self.log_softmax(x)\n"
     ]
    },
    {
     "data": {
      "text/plain": [
       "(0.5814898610115051,\n",
       " '4th down and 1 on their own 1 yard line, 300 seconds remaining, up by 36')"
      ]
     },
     "execution_count": 182,
     "metadata": {},
     "output_type": "execute_result"
    }
   ],
   "source": [
    "def predict(distance, yard_line, seconds_remaining, score_differential):\n",
    "    scaler = load('../models/scaler.joblib')\n",
    "    data = scaler.transform([[yard_line, seconds_remaining, distance, score_differential]])[0]\n",
    "    data_desc = data_as_string(data)\n",
    "    return predict_from_model(data), data_desc\n",
    "    \n",
    "\n",
    "def predict_from_model(data):\n",
    "    input_var = torch.tensor(data).float()\n",
    "    ans = model(input_var)\n",
    "    probs = torch.nn.functional.softmax(ans, dim=0)\n",
    "    return float(probs[0])\n",
    "\n",
    "def data_as_string(data):\n",
    "    scaler = load('../models/scaler.joblib')\n",
    "    scaled_data = scaler.inverse_transform([data])[0]\n",
    "    score_dif = int(scaled_data[3])\n",
    "    seconds_remaining = int(scaled_data[1])\n",
    "    yards_to_go = int(scaled_data[2])\n",
    "    yard_line = int(scaled_data[0])\n",
    "    ans = f\"4th down and {yards_to_go} on \"\n",
    "    if (yard_line < 50):\n",
    "        ans += f\"the {yard_line}\"\n",
    "    else:\n",
    "        ans += f\"their own {100 - yard_line}\"\n",
    "    ans += f\" yard line, {seconds_remaining} seconds remaining, \"\n",
    "    if (score_dif < 0):\n",
    "        ans += f\"down by {-1 * score_dif}\"\n",
    "    elif (score_dif > 0):\n",
    "        ans += f\"up by {score_dif}\"\n",
    "    else:\n",
    "        ans += \"tie game.\"\n",
    "    return ans\n",
    "\n",
    "predict(1, 99, 300, 36)"
   ]
  }
 ],
 "metadata": {
  "kernelspec": {
   "display_name": "Python 3",
   "language": "python",
   "name": "python3"
  },
  "language_info": {
   "codemirror_mode": {
    "name": "ipython",
    "version": 3
   },
   "file_extension": ".py",
   "mimetype": "text/x-python",
   "name": "python",
   "nbconvert_exporter": "python",
   "pygments_lexer": "ipython3",
   "version": "3.9.13"
  },
  "orig_nbformat": 4
 },
 "nbformat": 4,
 "nbformat_minor": 2
}
