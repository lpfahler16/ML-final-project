{
 "cells": [
  {
   "cell_type": "code",
   "execution_count": 1,
   "id": "d92b7fd2",
   "metadata": {},
   "outputs": [
    {
     "name": "stdout",
     "output_type": "stream",
     "text": [
      "9389.6\n"
     ]
    }
   ],
   "source": [
    "import numpy as np\n",
    "import pandas as pd\n",
    "\n",
    "df_2018 = pd.read_csv('../data/2018.csv')\n",
    "df_2017 = pd.read_csv('../data/2017.csv')\n",
    "df_2016 = pd.read_csv('../data/2016.csv')\n",
    "\n",
    "df_2018"
   ]
  },
  {
   "cell_type": "code",
   "execution_count": 30,
   "id": "85d0f83b",
   "metadata": {},
   "outputs": [],
   "source": [
    "def get_classifier_convert(df):\n",
    "    conditions = [\n",
    "        (df['fourth_down_converted'] == 1.0),\n",
    "        (df['fourth_down_failed'] == 1.0),\n",
    "        (df['field_goal_attempt'] == 1.0),\n",
    "        (df['punt_attempt'] == 1.0)\n",
    "    ]\n",
    "\n",
    "    results = ['CONVERTED', 'FAILED', 'FIELD_GOAL', 'PUNT']\n",
    "\n",
    "    y = np.select(conditions, results)\n",
    "    return y\n",
    "\n",
    "def get_classifier_attempt(df):\n",
    "    conditions = [\n",
    "        (df['fourth_down_converted'] == 1.0) | (df['fourth_down_failed'] == 1.0),\n",
    "        (df['field_goal_attempt'] == 1.0),\n",
    "        (df['punt_attempt'] == 1.0)\n",
    "    ]\n",
    "\n",
    "    results = ['ATTEMPTED', 'FIELD_GOAL', 'PUNT']\n",
    "\n",
    "    y = np.select(conditions, results)\n",
    "    return y\n",
    "\n",
    "def ready_data_convert(df):\n",
    "    df = df.dropna()\n",
    "    y = get_classifier_convert(df)\n",
    "    df = df.drop(columns=['posteam', 'fourth_down_converted', 'fourth_down_failed', 'field_goal_attempt', 'punt_attempt', 'game_date', 'down'])\n",
    "    return df, y\n",
    "\n",
    "def ready_data_attempt(df):\n",
    "    df = df.dropna()\n",
    "    y = get_classifier_attempt(df)\n",
    "    df = df.drop(columns=['posteam', 'fourth_down_converted', 'fourth_down_failed', 'field_goal_attempt', 'punt_attempt', 'game_date', 'down'])\n",
    "    return df, y"
   ]
  },
  {
   "cell_type": "code",
   "execution_count": 31,
   "id": "20f99099",
   "metadata": {},
   "outputs": [
    {
     "name": "stdout",
     "output_type": "stream",
     "text": [
      "      yardline_100  game_seconds_remaining  down  ydstogo  score_differential\n",
      "0              1.0                  3355.0   4.0      1.0                 0.0\n",
      "1             92.0                  3260.0   4.0      4.0                 0.0\n",
      "2              3.0                  3003.0   4.0      3.0                 0.0\n",
      "3             65.0                  2733.0   4.0     18.0                -3.0\n",
      "4             89.0                  2658.0   4.0     19.0                 3.0\n",
      "...            ...                     ...   ...      ...                 ...\n",
      "3502          70.0                  1483.0   4.0      4.0                -1.0\n",
      "3503          53.0                  1363.0   4.0      8.0                -1.0\n",
      "3504          58.0                   536.0   4.0     16.0                -5.0\n",
      "3505          14.0                   150.0   4.0      1.0                 5.0\n",
      "3506          61.0                    38.0   4.0      5.0                -5.0\n",
      "\n",
      "[3485 rows x 5 columns]\n"
     ]
    }
   ],
   "source": [
    "x, y = ready_data_convert(df_2018)\n",
    "print(x)"
   ]
  }
 ],
 "metadata": {
  "kernelspec": {
   "display_name": "Python 3 (ipykernel)",
   "language": "python",
   "name": "python3"
  },
  "language_info": {
   "codemirror_mode": {
    "name": "ipython",
    "version": 3
   },
   "file_extension": ".py",
   "mimetype": "text/x-python",
   "name": "python",
   "nbconvert_exporter": "python",
   "pygments_lexer": "ipython3",
   "version": "3.9.13"
  }
 },
 "nbformat": 4,
 "nbformat_minor": 5
}
