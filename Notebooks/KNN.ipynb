{
 "cells": [
  {
   "cell_type": "markdown",
   "id": "ae3e029a",
   "metadata": {},
   "source": [
    "# Starter Code"
   ]
  },
  {
   "cell_type": "code",
   "execution_count": 11,
   "id": "a6d7afaf",
   "metadata": {},
   "outputs": [],
   "source": [
    "import os\n",
    "scripts_path = os.path.abspath('../scripts')\n",
    "import importlib.util\n",
    "spec = importlib.util.spec_from_file_location(\"helpers\", os.path.join(scripts_path, \"helpers.py\"))\n",
    "helpers = importlib.util.module_from_spec(spec)\n",
    "spec.loader.exec_module(helpers)\n",
    "\n",
    "from sklearn.neighbors import KNeighborsClassifier\n",
    "from sklearn.model_selection import GridSearchCV\n",
    "from sklearn.metrics import classification_report\n",
    "from joblib import dump\n",
    "import math"
   ]
  },
  {
   "cell_type": "markdown",
   "id": "c5df009f",
   "metadata": {},
   "source": [
    "# KNN"
   ]
  },
  {
   "cell_type": "markdown",
   "id": "6db336d7",
   "metadata": {},
   "source": [
    "# Convert 4th Down"
   ]
  },
  {
   "cell_type": "markdown",
   "id": "5a7ceddf",
   "metadata": {},
   "source": [
    "# Default Params"
   ]
  },
  {
   "cell_type": "code",
   "execution_count": 12,
   "id": "a17e2de1",
   "metadata": {},
   "outputs": [
    {
     "name": "stdout",
     "output_type": "stream",
     "text": [
      "Test Accuracy: 0.840928152082751\n",
      "Train Accuracy: 0.8739340137005452\n",
      "              precision    recall  f1-score   support\n",
      "\n",
      "           0       0.08      0.03      0.04       295\n",
      "   CONVERTED       0.38      0.36      0.37       397\n",
      "      FAILED       0.42      0.36      0.39       430\n",
      "  FIELD_GOAL       0.87      0.91      0.89      1711\n",
      "        PUNT       0.92      0.96      0.94      4321\n",
      "\n",
      "    accuracy                           0.84      7154\n",
      "   macro avg       0.53      0.52      0.52      7154\n",
      "weighted avg       0.81      0.84      0.83      7154\n",
      "\n"
     ]
    }
   ],
   "source": [
    "X_train, X_test, y_train, y_test = helpers.convert_data_split()\n",
    "\n",
    "knn = KNeighborsClassifier()\n",
    "knn.fit(X_train, y_train)\n",
    "dump(knn, '../models/knn/convert.joblib')\n",
    "print(f\"Test Accuracy: {knn.score(X_test, y_test)}\")\n",
    "print(f\"Train Accuracy: {knn.score(X_train, y_train)}\")\n",
    "\n",
    "report = classification_report(y_test, knn.predict(X_test), zero_division=0)\n",
    "print(report)"
   ]
  },
  {
   "cell_type": "markdown",
   "id": "3fec4465",
   "metadata": {},
   "source": [
    "# Cross Validation"
   ]
  },
  {
   "cell_type": "code",
   "execution_count": 13,
   "id": "f33b50a4",
   "metadata": {},
   "outputs": [
    {
     "name": "stdout",
     "output_type": "stream",
     "text": [
      "{'n_neighbors': 14}\n",
      "Test Accuracy: 0.8514117975957506\n",
      "Train Accuracy: 0.8603732699566615\n",
      "              precision    recall  f1-score   support\n",
      "\n",
      "           0       0.11      0.01      0.01       295\n",
      "   CONVERTED       0.41      0.31      0.35       397\n",
      "      FAILED       0.45      0.30      0.36       430\n",
      "  FIELD_GOAL       0.85      0.94      0.89      1711\n",
      "        PUNT       0.91      0.98      0.94      4321\n",
      "\n",
      "    accuracy                           0.85      7154\n",
      "   macro avg       0.55      0.51      0.51      7154\n",
      "weighted avg       0.81      0.85      0.82      7154\n",
      "\n"
     ]
    }
   ],
   "source": [
    "X_train, X_test, y_train, y_test = helpers.convert_data_split()\n",
    "\n",
    "parameters = {\n",
    "    'n_neighbors': range(1, 20),\n",
    "}\n",
    "knn = GridSearchCV(KNeighborsClassifier(), parameters)\n",
    "\n",
    "knn.fit(X_train, y_train)\n",
    "\n",
    "dump(knn.best_estimator_, '../models/knn/convert_cv.joblib')\n",
    "\n",
    "print(knn.best_params_)\n",
    "print(f\"Test Accuracy: {knn.score(X_test, y_test)}\")\n",
    "print(f\"Train Accuracy: {knn.score(X_train, y_train)}\")\n",
    "\n",
    "report = classification_report(y_test, knn.predict(X_test), zero_division=0)\n",
    "print(report)"
   ]
  },
  {
   "cell_type": "markdown",
   "id": "88ee4fcf",
   "metadata": {},
   "source": [
    "# Attempt"
   ]
  },
  {
   "cell_type": "markdown",
   "id": "ff0627e6",
   "metadata": {},
   "source": [
    "# Default Params"
   ]
  },
  {
   "cell_type": "code",
   "execution_count": 14,
   "id": "89a74a73",
   "metadata": {},
   "outputs": [
    {
     "name": "stdout",
     "output_type": "stream",
     "text": [
      "Test Accuracy: 0.8704221414593235\n",
      "Train Accuracy: 0.8967216552495456\n"
     ]
    }
   ],
   "source": [
    "X_train, X_test, y_train, y_test = helpers.attempt_data_split()\n",
    "\n",
    "knn = KNeighborsClassifier()\n",
    "knn.fit(X_train, y_train)\n",
    "dump(knn, '../models/knn/attempt.joblib')\n",
    "print(f\"Test Accuracy: {knn.score(X_test, y_test)}\")\n",
    "print(f\"Train Accuracy: {knn.score(X_train, y_train)}\")"
   ]
  },
  {
   "cell_type": "markdown",
   "id": "f21536d7",
   "metadata": {},
   "source": [
    "# Cross Validation"
   ]
  },
  {
   "cell_type": "code",
   "execution_count": 15,
   "id": "f35ba922",
   "metadata": {},
   "outputs": [
    {
     "name": "stdout",
     "output_type": "stream",
     "text": [
      "{'n_neighbors': 16}\n",
      "Test Accuracy: 0.8793681856304165\n",
      "Train Accuracy: 0.8846288270655669\n",
      "              precision    recall  f1-score   support\n",
      "\n",
      "           0       0.14      0.00      0.01       295\n",
      "   ATTEMPTED       0.70      0.61      0.65       827\n",
      "  FIELD_GOAL       0.87      0.92      0.90      1711\n",
      "        PUNT       0.91      0.97      0.94      4321\n",
      "\n",
      "    accuracy                           0.88      7154\n",
      "   macro avg       0.66      0.63      0.62      7154\n",
      "weighted avg       0.85      0.88      0.86      7154\n",
      "\n"
     ]
    }
   ],
   "source": [
    "X_train, X_test, y_train, y_test = helpers.attempt_data_split()\n",
    "\n",
    "parameters = {\n",
    "    'n_neighbors': range(1, 20),\n",
    "}\n",
    "knn = GridSearchCV(KNeighborsClassifier(), parameters)\n",
    "\n",
    "knn.fit(X_train, y_train)\n",
    "\n",
    "dump(knn.best_estimator_, '../models/knn/attempt_cv.joblib')\n",
    "\n",
    "print(knn.best_params_)\n",
    "print(f\"Test Accuracy: {knn.score(X_test, y_test)}\")\n",
    "print(f\"Train Accuracy: {knn.score(X_train, y_train)}\")\n",
    "\n",
    "report = classification_report(y_test, knn.predict(X_test), zero_division=0)\n",
    "print(report)"
   ]
  }
 ],
 "metadata": {
  "kernelspec": {
   "display_name": "Python 3 (ipykernel)",
   "language": "python",
   "name": "python3"
  },
  "language_info": {
   "codemirror_mode": {
    "name": "ipython",
    "version": 3
   },
   "file_extension": ".py",
   "mimetype": "text/x-python",
   "name": "python",
   "nbconvert_exporter": "python",
   "pygments_lexer": "ipython3",
   "version": "3.9.13"
  }
 },
 "nbformat": 4,
 "nbformat_minor": 5
}
