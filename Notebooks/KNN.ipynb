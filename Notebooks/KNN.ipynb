{
 "cells": [
  {
   "cell_type": "markdown",
   "id": "ae3e029a",
   "metadata": {},
   "source": [
    "# Starter Code"
   ]
  },
  {
   "cell_type": "code",
   "execution_count": 30,
   "id": "a6d7afaf",
   "metadata": {},
   "outputs": [],
   "source": [
    "import os\n",
    "scripts_path = os.path.abspath('../scripts')\n",
    "import importlib.util\n",
    "spec = importlib.util.spec_from_file_location(\"helpers\", os.path.join(scripts_path, \"helpers.py\"))\n",
    "helpers = importlib.util.module_from_spec(spec)\n",
    "spec.loader.exec_module(helpers)\n",
    "\n",
    "from sklearn.neighbors import KNeighborsClassifier\n",
    "from sklearn.model_selection import GridSearchCV\n",
    "from sklearn.metrics import classification_report\n",
    "from joblib import dump\n",
    "import math"
   ]
  },
  {
   "cell_type": "markdown",
   "id": "c5df009f",
   "metadata": {},
   "source": [
    "# KNN"
   ]
  },
  {
   "cell_type": "markdown",
   "id": "6db336d7",
   "metadata": {},
   "source": [
    "# Convert 4th Down"
   ]
  },
  {
   "cell_type": "markdown",
   "id": "5a7ceddf",
   "metadata": {},
   "source": [
    "# Default Params"
   ]
  },
  {
   "cell_type": "code",
   "execution_count": 31,
   "id": "a17e2de1",
   "metadata": {},
   "outputs": [
    {
     "name": "stdout",
     "output_type": "stream",
     "text": [
      "Test Accuracy: 0.8110303548525011\n",
      "Train Accuracy: 0.8541800299337182\n",
      "              precision    recall  f1-score   support\n",
      "\n",
      "           0       0.07      0.02      0.04        85\n",
      "   CONVERTED       0.34      0.20      0.25       160\n",
      "      FAILED       0.37      0.27      0.31       154\n",
      "  FIELD_GOAL       0.76      0.90      0.83       542\n",
      "        PUNT       0.91      0.95      0.93      1398\n",
      "\n",
      "    accuracy                           0.81      2339\n",
      "   macro avg       0.49      0.47      0.47      2339\n",
      "weighted avg       0.77      0.81      0.79      2339\n",
      "\n"
     ]
    }
   ],
   "source": [
    "X_train, X_test, y_train, y_test = helpers.convert_data_split()\n",
    "\n",
    "knn = KNeighborsClassifier()\n",
    "knn.fit(X_train, y_train)\n",
    "dump(knn, '../models/knn/convert.joblib')\n",
    "print(f\"Test Accuracy: {knn.score(X_test, y_test)}\")\n",
    "print(f\"Train Accuracy: {knn.score(X_train, y_train)}\")\n",
    "\n",
    "report = classification_report(y_test, knn.predict(X_test), zero_division=0)\n",
    "print(report)"
   ]
  },
  {
   "cell_type": "markdown",
   "id": "3fec4465",
   "metadata": {},
   "source": [
    "# Cross Validation"
   ]
  },
  {
   "cell_type": "code",
   "execution_count": 32,
   "id": "f33b50a4",
   "metadata": {},
   "outputs": [
    {
     "name": "stdout",
     "output_type": "stream",
     "text": [
      "{'n_neighbors': 12}\n",
      "Test Accuracy: 0.8182984181274049\n",
      "Train Accuracy: 0.8362197990164636\n",
      "              precision    recall  f1-score   support\n",
      "\n",
      "           0       0.12      0.01      0.02        85\n",
      "   CONVERTED       0.43      0.10      0.16       160\n",
      "      FAILED       0.41      0.21      0.28       154\n",
      "  FIELD_GOAL       0.75      0.92      0.83       542\n",
      "        PUNT       0.88      0.97      0.93      1398\n",
      "\n",
      "    accuracy                           0.82      2339\n",
      "   macro avg       0.52      0.45      0.44      2339\n",
      "weighted avg       0.76      0.82      0.78      2339\n",
      "\n"
     ]
    }
   ],
   "source": [
    "X_train, X_test, y_train, y_test = helpers.convert_data_split()\n",
    "\n",
    "parameters = {\n",
    "    'n_neighbors': range(1, 20),\n",
    "}\n",
    "knn = GridSearchCV(KNeighborsClassifier(), parameters)\n",
    "\n",
    "knn.fit(X_train, y_train)\n",
    "\n",
    "dump(knn.best_estimator_, '../models/knn/convert_cv.joblib')\n",
    "\n",
    "print(knn.best_params_)\n",
    "print(f\"Test Accuracy: {knn.score(X_test, y_test)}\")\n",
    "print(f\"Train Accuracy: {knn.score(X_train, y_train)}\")\n",
    "\n",
    "report = classification_report(y_test, knn.predict(X_test), zero_division=0)\n",
    "print(report)"
   ]
  },
  {
   "cell_type": "markdown",
   "id": "88ee4fcf",
   "metadata": {},
   "source": [
    "# Attempt"
   ]
  },
  {
   "cell_type": "markdown",
   "id": "ff0627e6",
   "metadata": {},
   "source": [
    "# Default Params"
   ]
  },
  {
   "cell_type": "code",
   "execution_count": 33,
   "id": "89a74a73",
   "metadata": {},
   "outputs": [
    {
     "name": "stdout",
     "output_type": "stream",
     "text": [
      "Test Accuracy: 0.8371098760153912\n",
      "Train Accuracy: 0.8706435749412016\n"
     ]
    }
   ],
   "source": [
    "X_train, X_test, y_train, y_test = helpers.attempt_data_split()\n",
    "\n",
    "knn = KNeighborsClassifier()\n",
    "knn.fit(X_train, y_train)\n",
    "dump(knn, '../models/knn/attempt.joblib')\n",
    "print(f\"Test Accuracy: {knn.score(X_test, y_test)}\")\n",
    "print(f\"Train Accuracy: {knn.score(X_train, y_train)}\")"
   ]
  },
  {
   "cell_type": "markdown",
   "id": "f21536d7",
   "metadata": {},
   "source": [
    "# Cross Validation"
   ]
  },
  {
   "cell_type": "code",
   "execution_count": 34,
   "id": "f35ba922",
   "metadata": {},
   "outputs": [
    {
     "name": "stdout",
     "output_type": "stream",
     "text": [
      "{'n_neighbors': 14}\n",
      "Test Accuracy: 0.8396750748182984\n",
      "Train Accuracy: 0.8525764378875348\n",
      "              precision    recall  f1-score   support\n",
      "\n",
      "           0       0.00      0.00      0.00        85\n",
      "   ATTEMPTED       0.68      0.34      0.45       314\n",
      "  FIELD_GOAL       0.77      0.92      0.84       542\n",
      "        PUNT       0.89      0.97      0.93      1398\n",
      "\n",
      "    accuracy                           0.84      2339\n",
      "   macro avg       0.58      0.56      0.55      2339\n",
      "weighted avg       0.80      0.84      0.81      2339\n",
      "\n"
     ]
    }
   ],
   "source": [
    "X_train, X_test, y_train, y_test = helpers.attempt_data_split()\n",
    "\n",
    "parameters = {\n",
    "    'n_neighbors': range(1, 20),\n",
    "}\n",
    "knn = GridSearchCV(KNeighborsClassifier(), parameters)\n",
    "\n",
    "knn.fit(X_train, y_train)\n",
    "\n",
    "dump(knn.best_estimator_, '../models/knn/attempt_cv.joblib')\n",
    "\n",
    "print(knn.best_params_)\n",
    "print(f\"Test Accuracy: {knn.score(X_test, y_test)}\")\n",
    "print(f\"Train Accuracy: {knn.score(X_train, y_train)}\")\n",
    "\n",
    "report = classification_report(y_test, knn.predict(X_test), zero_division=0)\n",
    "print(report)"
   ]
  }
 ],
 "metadata": {
  "kernelspec": {
   "display_name": "Python 3 (ipykernel)",
   "language": "python",
   "name": "python3"
  },
  "language_info": {
   "codemirror_mode": {
    "name": "ipython",
    "version": 3
   },
   "file_extension": ".py",
   "mimetype": "text/x-python",
   "name": "python",
   "nbconvert_exporter": "python",
   "pygments_lexer": "ipython3",
   "version": "3.9.13"
  }
 },
 "nbformat": 4,
 "nbformat_minor": 5
}
