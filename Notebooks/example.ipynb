{
 "cells": [
  {
   "cell_type": "code",
   "execution_count": 52,
   "metadata": {},
   "outputs": [],
   "source": [
    "import os\n",
    "import importlib.util\n",
    "scripts_path = os.path.abspath('../')\n",
    "spec = importlib.util.spec_from_file_location(\"FourthDownPrediction\", os.path.join(scripts_path, \"FourthDownPrediction.py\"))\n",
    "FourthDownPrediction = importlib.util.module_from_spec(spec)\n",
    "spec.loader.exec_module(FourthDownPrediction)"
   ]
  },
  {
   "cell_type": "code",
   "execution_count": 58,
   "metadata": {},
   "outputs": [
    {
     "name": "stdout",
     "output_type": "stream",
     "text": [
      "Play: FIELD_GOAL\n",
      "First down confidence: 49.100276827812195%\n"
     ]
    },
    {
     "name": "stderr",
     "output_type": "stream",
     "text": [
      "/usr/local/lib/python3.9/site-packages/sklearn/base.py:439: UserWarning: X does not have valid feature names, but StandardScaler was fitted with feature names\n",
      "  warnings.warn(\n",
      "/usr/local/lib/python3.9/site-packages/sklearn/base.py:439: UserWarning: X does not have valid feature names, but StandardScaler was fitted with feature names\n",
      "  warnings.warn(\n",
      "/Users/loganpfahler/Spring 2023/Machine Learning/ML-final-project/scripts/nn_models.py:88: UserWarning: Implicit dimension choice for log_softmax has been deprecated. Change the call to include dim=X as an argument.\n",
      "  y_output = self.log_softmax(x)\n"
     ]
    }
   ],
   "source": [
    "model = FourthDownPrediction.FourthDownPrediction()\n",
    "\n",
    "yard_line = 20\n",
    "seconds_remaining = 10\n",
    "distance = 2\n",
    "score_differential = -2\n",
    "\n",
    "play = model.predict_play([[yard_line, seconds_remaining, distance, score_differential]], scale=True)[0]\n",
    "first_down = model.predict_conversion([[yard_line, seconds_remaining, distance, score_differential]], scale=True, percentage=True)[0]\n",
    "print(f\"Play: {play}\")\n",
    "print(f\"First down confidence: {first_down*100}%\")"
   ]
  }
 ],
 "metadata": {
  "kernelspec": {
   "display_name": "Python 3",
   "language": "python",
   "name": "python3"
  },
  "language_info": {
   "codemirror_mode": {
    "name": "ipython",
    "version": 3
   },
   "file_extension": ".py",
   "mimetype": "text/x-python",
   "name": "python",
   "nbconvert_exporter": "python",
   "pygments_lexer": "ipython3",
   "version": "3.9.13"
  },
  "orig_nbformat": 4
 },
 "nbformat": 4,
 "nbformat_minor": 2
}
