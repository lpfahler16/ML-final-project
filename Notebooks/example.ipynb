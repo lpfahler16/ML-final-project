{
 "cells": [
  {
   "cell_type": "code",
   "execution_count": 20,
   "metadata": {},
   "outputs": [],
   "source": [
    "import os\n",
    "import importlib.util\n",
    "scripts_path = os.path.abspath('../')\n",
    "spec = importlib.util.spec_from_file_location(\"FourthDownPrediction\", os.path.join(scripts_path, \"FourthDownPrediction.py\"))\n",
    "FourthDownPrediction = importlib.util.module_from_spec(spec)\n",
    "spec.loader.exec_module(FourthDownPrediction)"
   ]
  },
  {
   "cell_type": "code",
   "execution_count": 33,
   "metadata": {},
   "outputs": [
    {
     "name": "stderr",
     "output_type": "stream",
     "text": [
      "/usr/local/lib/python3.9/site-packages/sklearn/base.py:439: UserWarning: X does not have valid feature names, but StandardScaler was fitted with feature names\n",
      "  warnings.warn(\n"
     ]
    },
    {
     "data": {
      "text/plain": [
       "array(['FIELD_GOAL'], dtype='<U10')"
      ]
     },
     "execution_count": 33,
     "metadata": {},
     "output_type": "execute_result"
    }
   ],
   "source": [
    "model = FourthDownPrediction.FourthDownPrediction()\n",
    "\n",
    "yard_line = 20\n",
    "seconds_remaining = 10\n",
    "distance = 6\n",
    "score_differential = -2\n",
    "\n",
    "model.predict_play([[yard_line, seconds_remaining, distance, score_differential]], scale=True)"
   ]
  }
 ],
 "metadata": {
  "kernelspec": {
   "display_name": "Python 3",
   "language": "python",
   "name": "python3"
  },
  "language_info": {
   "codemirror_mode": {
    "name": "ipython",
    "version": 3
   },
   "file_extension": ".py",
   "mimetype": "text/x-python",
   "name": "python",
   "nbconvert_exporter": "python",
   "pygments_lexer": "ipython3",
   "version": "3.9.13"
  },
  "orig_nbformat": 4
 },
 "nbformat": 4,
 "nbformat_minor": 2
}
